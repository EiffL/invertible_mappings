{
 "cells": [
  {
   "cell_type": "markdown",
   "metadata": {},
   "source": [
    "# Testing regularization of likelihood functions"
   ]
  },
  {
   "cell_type": "code",
   "execution_count": 1,
   "metadata": {},
   "outputs": [
    {
     "name": "stdout",
     "output_type": "stream",
     "text": [
      "Populating the interactive namespace from numpy and matplotlib\n"
     ]
    }
   ],
   "source": [
    "%pylab inline\n",
    "import os, sys\n",
    "os.environ[\"CUDA_VISIBLE_DEVICES\"]=\"0\"\n",
    "%load_ext autoreload\n",
    "%autoreload 2"
   ]
  },
  {
   "cell_type": "code",
   "execution_count": 2,
   "metadata": {},
   "outputs": [],
   "source": [
    "import tensorflow as tf\n"
   ]
  },
  {
   "cell_type": "code",
   "execution_count": 3,
   "metadata": {},
   "outputs": [],
   "source": [
    "sys.path.append('../../utils/flowpm/')\n",
    "import tfpmconfig, tfpm\n",
    "import tfpmfuncs as tfpf\n",
    "import tfpmfuncs\n",
    "sys.path.append('../../utils/')\n",
    "import tools\n"
   ]
  },
  {
   "cell_type": "code",
   "execution_count": 4,
   "metadata": {},
   "outputs": [],
   "source": [
    "from matplotlib.colors import LogNorm"
   ]
  },
  {
   "cell_type": "code",
   "execution_count": 5,
   "metadata": {},
   "outputs": [],
   "source": [
    "import tensorflow_probability as tfp\n",
    "tfd = tfp.distributions\n",
    "\n",
    "import tensorflow.contrib.slim as slim\n",
    "from tensorflow.contrib.slim import add_arg_scope\n",
    "import tensorflow_hub as hub\n"
   ]
  },
  {
   "cell_type": "code",
   "execution_count": 6,
   "metadata": {},
   "outputs": [],
   "source": [
    "from time import time"
   ]
  },
  {
   "cell_type": "code",
   "execution_count": 7,
   "metadata": {},
   "outputs": [
    {
     "name": "stderr",
     "output_type": "stream",
     "text": [
      "/home/chmodi/.local/lib/python3.6/site-packages/ipykernel_launcher.py:3: DeprecationWarning: Calling np.sum(generator) is deprecated, and in the future will give a different result. Use np.sum(np.from_iter(generator)) or the python sum builtin instead.\n",
      "  This is separate from the ipykernel package so we can avoid doing imports until\n"
     ]
    }
   ],
   "source": [
    "bs, nc = 100, 32\n",
    "config = tfpmconfig.Config(bs=bs, nc=nc)\n",
    "kmesh = sum(kk**2 for kk in config['kvec'])**0.5\n",
    "priorwt = config['ipklin'](kmesh) * config['boxsize'] ** -3\n",
    "\n",
    "# path = '../../data/toy/L0100_N0032/S{:04d}/'\n",
    "path = '../../../galmodel/data/toy/L0100_N0032/S{:04d}/'\n",
    "seed = 0 \n",
    "s = np.load(path.format(seed) + 's.npy')\n",
    "d = np.load(path.format(seed) + 'd.npy')\n",
    "p = np.load(path.format(seed) + 'p.npy')"
   ]
  },
  {
   "cell_type": "code",
   "execution_count": 8,
   "metadata": {},
   "outputs": [
    {
     "data": {
      "text/plain": [
       "<matplotlib.image.AxesImage at 0x7f8fe72518d0>"
      ]
     },
     "execution_count": 8,
     "metadata": {},
     "output_type": "execute_result"
    },
    {
     "data": {
      "image/png": "[encoded data removed]",
      "text/plain": [
       "<Figure size 720x288 with 3 Axes>"
      ]
     },
     "metadata": {
      "needs_background": "light"
     },
     "output_type": "display_data"
    }
   ],
   "source": [
    "plt.figure(figsize = (10, 4))\n",
    "ax = plt.subplot(1, 3, 1)\n",
    "plt.imshow(s.sum(axis=0))\n",
    "ax = plt.subplot(1, 3, 2)\n",
    "plt.imshow(p.sum(axis=0))\n",
    "ax = plt.subplot(1, 3, 3)\n",
    "plt.imshow(d.sum(axis=0))"
   ]
  },
  {
   "cell_type": "code",
   "execution_count": 9,
   "metadata": {},
   "outputs": [],
   "source": [
    "lins, fins, finsample = [], [], []\n",
    "for seed in range(1000):\n",
    "    lins.append(np.load(path.format(seed)+'s.npy'))\n",
    "    fins.append(np.load(path.format(seed)+'d.npy'))\n",
    "    finsample.append(np.load(path.format(seed)+'p.npy'))\n",
    "\n",
    "lins = np.array(lins)\n",
    "fins = np.array(fins)\n",
    "finsample = np.array(finsample)"
   ]
  },
  {
   "cell_type": "code",
   "execution_count": 10,
   "metadata": {},
   "outputs": [
    {
     "data": {
      "text/plain": [
       "((1000, 32, 32, 32), (1000, 32, 32, 32), (1000, 32, 32, 32))"
      ]
     },
     "execution_count": 10,
     "metadata": {},
     "output_type": "execute_result"
    }
   ],
   "source": [
    "lins.shape, fins.shape, finsample.shape"
   ]
  },
  {
   "cell_type": "code",
   "execution_count": 11,
   "metadata": {},
   "outputs": [],
   "source": [
    "inits = lins.copy()"
   ]
  },
  {
   "cell_type": "code",
   "execution_count": 12,
   "metadata": {},
   "outputs": [],
   "source": [
    "\n",
    "def evolvefinal( xinit):\n",
    "    tf.reset_default_graph()\n",
    "\n",
    "    xrecon = tf.get_variable('xrecon',\n",
    "                             initializer=xinit, \n",
    "                             trainable=True)\n",
    "\n",
    "    icstate = tfpm.lptinit(xrecon, config, name='icstate')\n",
    "    fnstate = tfpm.nbody(icstate, config, verbose=False, name='fnstate')\n",
    "    final = tf.zeros_like(xrecon)\n",
    "    final = tfpf.cic_paint(final, fnstate[0], boxsize=config['boxsize'], name='final')\n",
    "    with tf.Session() as sess:\n",
    "        sess.run(tf.global_variables_initializer())\n",
    "        sample = sess.run(final)\n",
    "    return sample\n",
    "\n"
   ]
  },
  {
   "cell_type": "markdown",
   "metadata": {},
   "source": [
    "# Train model on final field"
   ]
  },
  {
   "cell_type": "code",
   "execution_count": null,
   "metadata": {},
   "outputs": [],
   "source": [
    "# ###If reading a saved module, uncomment this\n",
    "\n",
    "# tf.reset_default_graph()\n",
    "# modname = './modules/densemoduleza3dsamplefin2//'\n",
    "# module = hub.Module(modname, trainable=False)\n",
    "\n",
    "# sample = module({'features':fins, 'labels':finsample}, as_dict=True)['sample']\n",
    "# with tf.Session() as sess:\n",
    "#     sess.run(tf.global_variables_initializer())\n",
    "#     learnfin = sess.run(sample)\n",
    "\n",
    "\n",
    "##Else run the following cell to train the network"
   ]
  },
  {
   "cell_type": "code",
   "execution_count": 24,
   "metadata": {},
   "outputs": [
    {
     "name": "stdout",
     "output_type": "stream",
     "text": [
      "INFO:tensorflow:Scale of 0 disables regularizer.\n",
      "INFO:tensorflow:Saver not created because there are no variables in the graph to restore\n",
      "INFO:tensorflow:Saver not created because there are no variables in the graph to restore\n",
      "INFO:tensorflow:Saver not created because there are no variables in the graph to restore\n",
      "0.79242826\n",
      "0.29438898\n",
      "Done 0.29359156\n"
     ]
    }
   ],
   "source": [
    "\n",
    "\n",
    "tf.reset_default_graph()\n",
    "\n",
    "\n",
    "nfilter = 16\n",
    "def module_fn():\n",
    "    '''Define network here'''\n",
    "    x = tf.placeholder(tf.float32, shape=[None, nc, nc, nc], name='input')\n",
    "    y = tf.placeholder(tf.float32, shape=[None, nc, nc, nc], name='output')\n",
    "\n",
    "    reg = tf.contrib.layers.l2_regularizer(0.00)\n",
    "\n",
    "    xx = tf.expand_dims(x, -1)\n",
    "    net = tf.layers.conv3d(xx,nfilter, 5, activation=tf.nn.leaky_relu, kernel_regularizer=reg,padding='same')\n",
    "    \n",
    "    net = tf.nn.leaky_relu(net)\n",
    "    subnet = tf.layers.conv3d(net,nfilter, 3, kernel_regularizer=reg,padding='same')\n",
    "    net = net + tf.layers.conv3d(subnet,nfilter, 3, kernel_regularizer=reg,padding='same')\n",
    "    net = tf.nn.dropout(net, 0.95)\n",
    "\n",
    "    net = tf.nn.leaky_relu(net)\n",
    "    subnet = tf.layers.conv3d(net,nfilter, 3, kernel_regularizer=reg,padding='same')\n",
    "    net = net + tf.layers.conv3d(subnet,nfilter, 3, kernel_regularizer=reg,padding='same')\n",
    "    net = tf.nn.dropout(net, 0.95)\n",
    "\n",
    "    net = tf.nn.leaky_relu(net)\n",
    "    subnet = tf.layers.conv3d(net,nfilter, 3, kernel_regularizer=reg,padding='same')\n",
    "    net = net + tf.layers.conv3d(subnet,nfilter, 3, kernel_regularizer=reg,padding='same')\n",
    "    net = tf.nn.dropout(net, 0.95)\n",
    "\n",
    "    net = tf.nn.leaky_relu(net)\n",
    "    subnet = tf.layers.conv3d(net,nfilter, 3, kernel_regularizer=reg,padding='same')\n",
    "    net = net + tf.layers.conv3d(subnet,nfilter, 3, kernel_regularizer=reg,padding='same')\n",
    "    net = tf.nn.dropout(net, 0.95)\n",
    "\n",
    "    net = tf.layers.conv3d(net,1, 3, activation=tf.nn.leaky_relu, kernel_regularizer=reg,padding='same')\n",
    "    net = tf.layers.conv3d(net,1, 1, kernel_regularizer=reg,padding='same')\n",
    "\n",
    "    lognet = tf.layers.conv3d(net, 1, 1, kernel_regularizer=reg,padding='same', \n",
    "                              name='lograte')    \n",
    "    net = tf.nn.softplus(lognet)\n",
    "    net= tf.squeeze(net)\n",
    "    net = tf.identity(net, name='rate')\n",
    "    mixture_dist = tfd.Poisson(rate=net)\n",
    "    sample = tf.squeeze(mixture_dist.sample())\n",
    "#     loglik = mixture_dist.log_prob(tf.expand_dims(y, -1))\n",
    "    loglik = mixture_dist.log_prob(y)\n",
    "    \n",
    "    \n",
    "    hub.add_signature(inputs={'features':x, 'labels':y}, \n",
    "#                           outputs={'sample':sample, 'loglikelihood':loglik, 'loc':loc, \n",
    "#                                   'scale':scale, 'logits':logits})\n",
    "                        outputs={'sample':sample, 'loglikelihood':loglik, 'lograte':lognet, 'rate':net})\n",
    "    \n",
    "#####                                                                                                                                                                                                                                                                                     \n",
    "\n",
    "\n",
    "spec = hub.create_module_spec(module_fn)\n",
    "module = hub.Module(spec, trainable=True)\n",
    "\n",
    "\n",
    "xx = tf.placeholder(tf.float32, shape=[None, nc, nc, nc], name='input')\n",
    "yy = tf.placeholder(tf.float32, shape=[None, nc, nc, nc], name='input')\n",
    "rate = module({'features':xx, 'labels':yy}, as_dict=True)['rate']\n",
    "loglik = module({'features':xx, 'labels':yy}, as_dict=True)['loglikelihood']\n",
    "sample = module({'features':xx, 'labels':yy}, as_dict=True)['sample']\n",
    "loss = -loglik #tf.reduce_sum(tf.square(tf.add(rate, -yy)), axis=-1)\n",
    "loss = tf.reduce_mean(loss)\n",
    "\n",
    "lr = tf.placeholder(tf.float32)\n",
    "optimizer = tf.train.AdamOptimizer(learning_rate=lr)\n",
    "train_op = optimizer.minimize(loss)\n",
    "\n",
    "sess = tf.Session()\n",
    "sess.run(tf.global_variables_initializer())\n",
    "losses =[]\n",
    "\n",
    "data_size = 800\n",
    "batch_size = 32\n",
    "\n",
    "for i in range(500):\n",
    "    inds = np.random.randint(0, data_size, batch_size)\n",
    "    x = fins[inds]\n",
    "    y = finsample[inds]\n",
    "    l,_= sess.run([loss, train_op], feed_dict={xx:x, yy:y, lr:0.001})\n",
    "    if np.isnan(l): \n",
    "        print(i, l)\n",
    "        break\n",
    "    losses.append( l)   \n",
    "    if i%300 ==0: print(l)\n",
    "# for i in range(500):\n",
    "#     inds = np.random.randint(0, data_size, batch_size)\n",
    "#     x = fins[inds]\n",
    "#     y = finsample[inds]\n",
    "#     l,_= sess.run([loss, train_op], feed_dict={xx:x, yy:y, lr:0.001})\n",
    "#     if np.isnan(l): \n",
    "#         print(i, l)\n",
    "#         break\n",
    "#     losses.append(l)\n",
    "#     if i%300 ==0: print(l)\n",
    "# for i in range(500):\n",
    "#     inds = np.random.randint(0, data_size, batch_size)\n",
    "#     x = fins[inds]\n",
    "#     y = finsample[inds]\n",
    "#     l,_= sess.run([loss, train_op], feed_dict={xx:x, yy:y, lr:0.0005})\n",
    "#     if np.isnan(l): \n",
    "#         print(i, l)\n",
    "#         break\n",
    "#     losses.append(l)\n",
    "#     if i%300 ==0: print(l)\n",
    "        \n",
    "print('Done', l)\n",
    "if ~np.isnan(l):\n",
    "    learnfin = sess.run(sample, feed_dict={xx:fins, yy:y})\n",
    "    learnfinrate = sess.run(rate, feed_dict={xx:fins, yy:y})\n",
    "    \n",
    "    \n",
    "plot(losses[1:])\n",
    "plt.yscale('log')\n",
    "plt.xscale('log')\n",
    "plt.show()\n",
    "\n"
   ]
  },
  {
   "cell_type": "code",
   "execution_count": null,
   "metadata": {},
   "outputs": [],
   "source": [
    "# %%bash\n",
    "# ls modules/\n",
    "# # rm -r ./modules/densemoduleza3dsamplefin\n",
    "# # \n",
    "# # module.export('./modules/densemoduleza3dsamplefin2', sess)\n"
   ]
  },
  {
   "cell_type": "code",
   "execution_count": 25,
   "metadata": {},
   "outputs": [
    {
     "data": {
      "image/png": "[encoded data removed]",
      "text/plain": [
       "<Figure size 432x288 with 1 Axes>"
      ]
     },
     "metadata": {
      "needs_background": "light"
     },
     "output_type": "display_data"
    },
    {
     "data": {
      "text/plain": [
       "Text(0.5, 1.0, 'Output Learnt')"
      ]
     },
     "execution_count": 25,
     "metadata": {},
     "output_type": "execute_result"
    },
    {
     "data": {
      "image/png": "[encoded data removed]",
      "text/plain": [
       "<Figure size 864x360 with 6 Axes>"
      ]
     },
     "metadata": {
      "needs_background": "light"
     },
     "output_type": "display_data"
    }
   ],
   "source": [
    "\n",
    "fig, ax = plt.subplots(1, 3, figsize = (12, 5))\n",
    "ii = 90\n",
    "axis = ax\n",
    "im = axis[0].imshow(fins[ii].sum(axis=0))\n",
    "colorbar(im, ax=axis[0])\n",
    "axis[0].set_title('Input Final')\n",
    "im = axis[1].imshow(finsample[ii].sum(axis=0))\n",
    "colorbar(im, ax=axis[1])\n",
    "axis[1].set_title('Output True')\n",
    "im = axis[2].imshow(learnfin[ii].sum(axis=0))\n",
    "colorbar(im, ax=axis[2])\n",
    "axis[2].set_title('Output Learnt')\n"
   ]
  },
  {
   "cell_type": "code",
   "execution_count": 27,
   "metadata": {},
   "outputs": [
    {
     "name": "stdout",
     "output_type": "stream",
     "text": [
      "INFO:tensorflow:Exported TF-Hub module to: ./modules/densemoduleza3dsamplefin2\n"
     ]
    }
   ],
   "source": []
  },
  {
   "cell_type": "markdown",
   "metadata": {},
   "source": [
    "### Reconstruct with fin model"
   ]
  },
  {
   "cell_type": "code",
   "execution_count": 61,
   "metadata": {},
   "outputs": [],
   "source": [
    "testid  = 100\n"
   ]
  },
  {
   "cell_type": "code",
   "execution_count": 29,
   "metadata": {},
   "outputs": [
    {
     "name": "stderr",
     "output_type": "stream",
     "text": [
      "/home/chmodi/.local/lib/python3.6/site-packages/ipykernel_launcher.py:1: DeprecationWarning: Calling np.sum(generator) is deprecated, and in the future will give a different result. Use np.sum(np.from_iter(generator)) or the python sum builtin instead.\n",
      "  \"\"\"Entry point for launching an IPython kernel.\n"
     ]
    }
   ],
   "source": [
    "kmesh = sum(kk**2 for kk in config['kvec'])**0.5\n",
    "priorwt = config['ipklin'](kmesh) * config['boxsize'] ** -3\n",
    "\n",
    "def doreconfin(yy, xinit, modname, useprior=True, niter=5000, lr=0.001, sampleonly=False):\n",
    "    tf.reset_default_graph()\n",
    "    module = hub.Module(modname, trainable=False)\n",
    "\n",
    "    xrecon = tf.get_variable('xrecon',\n",
    "                             initializer=xinit, \n",
    "                             trainable=True)\n",
    "\n",
    "    icstate = tfpm.lptinit(xrecon, config, name='icstate')\n",
    "    fnstate = tfpm.nbody(icstate, config, verbose=False, name='fnstate')\n",
    "    final = tf.zeros_like(xrecon)\n",
    "    final = tfpf.cic_paint(final, fnstate[0], boxsize=config['boxsize'], name='final')\n",
    "\n",
    "    sample = module({'features':tf.expand_dims(final, 0), 'labels':yy}, as_dict=True)['sample']\n",
    "    if sampleonly: \n",
    "        with tf.Session() as sess:\n",
    "            sess.run(tf.global_variables_initializer())\n",
    "            sample = sess.run(sample)\n",
    "        return sample\n",
    "    \n",
    "        \n",
    "    loglik = module({'features':tf.expand_dims(final, 0), 'labels':yy}, as_dict=True)['loglikelihood']\n",
    "    loglik = -tf.reduce_sum(loglik, axis=(1, 2, 3))\n",
    "    \n",
    "    xreconk = tfpmfuncs.r2c3d(xrecon)\n",
    "    priormesh = tf.square(tf.cast(tf.abs(xreconk), tf.float32))\n",
    "    prior = tf.reduce_sum(tf.multiply(priormesh, 1/priorwt), axis=(0, 1, 2))\n",
    "    prior = tf.multiply(prior, 1/nc, name='prior')\n",
    "    print(loglik, prior)\n",
    "\n",
    "    if useprior: loss = tf.add(loglik, prior)\n",
    "    else: loss = loglik\n",
    "#   \n",
    "    optimizer = tf.train.GradientDescentOptimizer(learning_rate=lr)\n",
    "    opt_op = optimizer.minimize(loss, var_list=[xrecon])\n",
    "\n",
    "\n",
    "    with tf.Session() as sess:\n",
    "        sess.run(tf.global_variables_initializer())\n",
    "        xinit = sess.run(xrecon)\n",
    "        losses = []\n",
    "        priors = []\n",
    "        for it in range(niter+1):\n",
    "            _, l, p = sess.run([opt_op, loss, prior])\n",
    "            if it%300==0: print(it, l[0])\n",
    "            losses.append(l)\n",
    "            priors.append(p)\n",
    "        xfin = sess.run(xrecon)\n",
    "        \n",
    "    return xfin, losses, priors"
   ]
  },
  {
   "cell_type": "code",
   "execution_count": 62,
   "metadata": {},
   "outputs": [
    {
     "name": "stdout",
     "output_type": "stream",
     "text": [
      "INFO:tensorflow:Saver not created because there are no variables in the graph to restore\n",
      "INFO:tensorflow:Saver not created because there are no variables in the graph to restore\n",
      "Tensor(\"Neg:0\", shape=(1,), dtype=float32) Tensor(\"prior:0\", shape=(), dtype=float32)\n",
      "0 17803.168\n",
      "300 8681.832\n",
      "600 8341.525\n",
      "900 8173.346\n"
     ]
    }
   ],
   "source": [
    "tf.reset_default_graph()\n",
    "modname = './modules/densemoduleza3dsamplefin2/'\n",
    "xreconsfin = []\n",
    "losses = []\n",
    "priors = []\n",
    "xinit = []\n",
    "\n",
    "nstart = 1\n",
    "\n",
    "np.random.seed(100)\n",
    "yy = np.array([finsample[testid].copy() for j in range(nstart)])\n",
    "yy = yy\n",
    "xi = 1*randn( nc, nc, nc)\n",
    "xi = xi.astype('float32')\n",
    "#     xi = xreconsfin[0].copy()\n",
    "\n",
    "recons = doreconfin(yy, xi, modname, useprior=True, niter=1000, lr=0.01)\n",
    "xrecon = np.squeeze(recons[0])\n",
    "xreconsfin.append(xrecon)\n",
    "losses.append(np.squeeze(recons[1]))\n",
    "priors.append(np.squeeze(recons[2]))\n",
    "xinit.append(xi)\n",
    "\n"
   ]
  },
  {
   "cell_type": "code",
   "execution_count": 24,
   "metadata": {},
   "outputs": [],
   "source": [
    "###Maybe save reconstrunction here if not interested in doing it every time\n",
    "# np.save('./xreconfindenseza3dsample', xreconsfin[0])\n",
    "# xreconsfin = [np.load('./xreconfindenseza3dsample.npy')]"
   ]
  },
  {
   "cell_type": "code",
   "execution_count": 63,
   "metadata": {},
   "outputs": [
    {
     "data": {
      "text/plain": [
       "Text(0.5, 1.0, 'Difference')"
      ]
     },
     "execution_count": 63,
     "metadata": {},
     "output_type": "execute_result"
    },
    {
     "data": {
      "image/png": "[encoded data removed]",
      "text/plain": [
       "<Figure size 864x288 with 6 Axes>"
      ]
     },
     "metadata": {
      "needs_background": "light"
     },
     "output_type": "display_data"
    }
   ],
   "source": [
    "fig, axar = plt.subplots(1,3,figsize=(12, 4))\n",
    "\n",
    "ax = axar\n",
    "im = ax[0].imshow(inits[testid].sum(axis=0))\n",
    "colorbar(im, ax=ax[0])\n",
    "ax[0].set_title('Truth')\n",
    "im = ax[1].imshow(xreconsfin[-1].sum(axis=0))\n",
    "colorbar(im, ax=ax[1])\n",
    "ax[1].set_title('Recon')\n",
    "im = ax[2].imshow((inits[testid]-xreconsfin[-1]).sum(axis=0))\n",
    "colorbar(im, ax=ax[2])\n",
    "ax[2].set_title('Difference')\n"
   ]
  },
  {
   "cell_type": "code",
   "execution_count": 439,
   "metadata": {},
   "outputs": [],
   "source": [
    "# np.save('./xreconfintruedenseza3dsample', xreconsfintrue[0])\n",
    "# xreconsfintrue = [np.load('./xreconfintruedenseza3dsample.npy')]"
   ]
  },
  {
   "cell_type": "code",
   "execution_count": 94,
   "metadata": {},
   "outputs": [
    {
     "name": "stderr",
     "output_type": "stream",
     "text": [
      "/home/chmodi/.local/lib/python3.6/site-packages/ipykernel_launcher.py:5: RuntimeWarning: invalid value encountered in true_divide\n",
      "  \"\"\"\n"
     ]
    },
    {
     "data": {
      "text/plain": [
       "(0, 1)"
      ]
     },
     "execution_count": 94,
     "metadata": {},
     "output_type": "execute_result"
    },
    {
     "data": {
      "image/png": "[encoded data removed]",
      "text/plain": [
       "<Figure size 432x288 with 1 Axes>"
      ]
     },
     "metadata": {
      "needs_background": "light"
     },
     "output_type": "display_data"
    }
   ],
   "source": [
    "kk, p1 = tools.power(inits[testid], boxsize=bs)\n",
    "kk, p2 = tools.power(xreconsfin[-1], boxsize=bs)\n",
    "kk, p12 = tools.power(inits[testid], xreconsfin[-1], boxsize=bs)\n",
    "\n",
    "plt.plot(kk, p12/(p1*p2)**0.5)\n",
    "plt.xscale('log')\n",
    "plt.grid(which='both')\n",
    "plt.ylim(0, 1)"
   ]
  },
  {
   "cell_type": "code",
   "execution_count": 100,
   "metadata": {},
   "outputs": [
    {
     "name": "stdout",
     "output_type": "stream",
     "text": [
      "INFO:tensorflow:Saver not created because there are no variables in the graph to restore\n"
     ]
    },
    {
     "name": "stderr",
     "output_type": "stream",
     "text": [
      "INFO:tensorflow:Saver not created because there are no variables in the graph to restore\n"
     ]
    },
    {
     "name": "stdout",
     "output_type": "stream",
     "text": [
      "INFO:tensorflow:Saver not created because there are no variables in the graph to restore\n"
     ]
    },
    {
     "name": "stderr",
     "output_type": "stream",
     "text": [
      "INFO:tensorflow:Saver not created because there are no variables in the graph to restore\n"
     ]
    }
   ],
   "source": [
    "tf.reset_default_graph()\n",
    "modname = './modules/densemoduleza3dsamplefin2/'\n",
    "samplexreconsfin = doreconfin(np.expand_dims(xreconsfin[-1], axis=0)*0, xreconsfin[-1], modname=modname,  sampleonly=True)\n",
    "\n",
    "tmp = inits[testid].copy()\n",
    "samplelearnfin = doreconfin(np.expand_dims(tmp, 0)*0, tmp , modname=modname, sampleonly=True)\n"
   ]
  },
  {
   "cell_type": "code",
   "execution_count": 96,
   "metadata": {},
   "outputs": [
    {
     "data": {
      "text/plain": [
       "<matplotlib.image.AxesImage at 0x7f8a98fa4c18>"
      ]
     },
     "execution_count": 96,
     "metadata": {},
     "output_type": "execute_result"
    },
    {
     "data": {
      "image/png": "[encoded data removed]",
      "text/plain": [
       "<Figure size 432x288 with 2 Axes>"
      ]
     },
     "metadata": {
      "needs_background": "light"
     },
     "output_type": "display_data"
    }
   ],
   "source": [
    "ax = plt.subplot(1, 2, 1)\n",
    "plt.imshow(finsample[testid].sum(axis=0))\n",
    "ax = plt.subplot(1, 2, 2)\n",
    "plt.imshow(samplexreconsfin.sum(axis=0))"
   ]
  },
  {
   "cell_type": "markdown",
   "metadata": {},
   "source": [
    "# Specnorm it!\n"
   ]
  },
  {
   "cell_type": "code",
   "execution_count": 40,
   "metadata": {},
   "outputs": [],
   "source": [
    "import sys\n",
    "sys.path.append('../../utils/')\n",
    "import tfops, layers\n",
    "from layers import SpecDenseLayer\n",
    "from tfops import specnormconv3d as specconv3d\n"
   ]
  },
  {
   "cell_type": "code",
   "execution_count": null,
   "metadata": {},
   "outputs": [],
   "source": [
    "###If already have the trained network, read from here\n",
    "\n",
    "# tf.reset_default_graph()\n",
    "# modname = './modules/specdensemoduleza3dsamplefin2///'\n",
    "# module = hub.Module(modname, trainable=False)\n",
    "# sample = module({'features':fins, 'labels':finsample}, as_dict=True)['sample']\n",
    "# with tf.Session() as sess:\n",
    "#     sess.run(tf.global_variables_initializer())\n",
    "#     learnspecfin = sess.run(sample)\n"
   ]
  },
  {
   "cell_type": "code",
   "execution_count": null,
   "metadata": {},
   "outputs": [
    {
     "name": "stderr",
     "output_type": "stream",
     "text": [
      "../../utils/tfops.py:36: UserWarning: Setting update_collection to None will make u being updated every W execution. This maybe undesirable. Please consider using a update collection instead.\n",
      "  warnings.warn('Setting update_collection to None will make u being updated every W execution. This maybe undesirable'\n",
      "../../utils/tfops.py:36: UserWarning: Setting update_collection to None will make u being updated every W execution. This maybe undesirable. Please consider using a update collection instead.\n",
      "  warnings.warn('Setting update_collection to None will make u being updated every W execution. This maybe undesirable'\n",
      "../../utils/tfops.py:36: UserWarning: Setting update_collection to None will make u being updated every W execution. This maybe undesirable. Please consider using a update collection instead.\n",
      "  warnings.warn('Setting update_collection to None will make u being updated every W execution. This maybe undesirable'\n",
      "../../utils/tfops.py:36: UserWarning: Setting update_collection to None will make u being updated every W execution. This maybe undesirable. Please consider using a update collection instead.\n",
      "  warnings.warn('Setting update_collection to None will make u being updated every W execution. This maybe undesirable'\n",
      "../../utils/tfops.py:36: UserWarning: Setting update_collection to None will make u being updated every W execution. This maybe undesirable. Please consider using a update collection instead.\n",
      "  warnings.warn('Setting update_collection to None will make u being updated every W execution. This maybe undesirable'\n",
      "../../utils/tfops.py:36: UserWarning: Setting update_collection to None will make u being updated every W execution. This maybe undesirable. Please consider using a update collection instead.\n",
      "  warnings.warn('Setting update_collection to None will make u being updated every W execution. This maybe undesirable'\n",
      "../../utils/tfops.py:36: UserWarning: Setting update_collection to None will make u being updated every W execution. This maybe undesirable. Please consider using a update collection instead.\n",
      "  warnings.warn('Setting update_collection to None will make u being updated every W execution. This maybe undesirable'\n",
      "../../utils/tfops.py:36: UserWarning: Setting update_collection to None will make u being updated every W execution. This maybe undesirable. Please consider using a update collection instead.\n",
      "  warnings.warn('Setting update_collection to None will make u being updated every W execution. This maybe undesirable'\n",
      "../../utils/tfops.py:36: UserWarning: Setting update_collection to None will make u being updated every W execution. This maybe undesirable. Please consider using a update collection instead.\n",
      "  warnings.warn('Setting update_collection to None will make u being updated every W execution. This maybe undesirable'\n",
      "../../utils/tfops.py:36: UserWarning: Setting update_collection to None will make u being updated every W execution. This maybe undesirable. Please consider using a update collection instead.\n",
      "  warnings.warn('Setting update_collection to None will make u being updated every W execution. This maybe undesirable'\n",
      "../../utils/tfops.py:36: UserWarning: Setting update_collection to None will make u being updated every W execution. This maybe undesirable. Please consider using a update collection instead.\n",
      "  warnings.warn('Setting update_collection to None will make u being updated every W execution. This maybe undesirable'\n",
      "../../utils/tfops.py:36: UserWarning: Setting update_collection to None will make u being updated every W execution. This maybe undesirable. Please consider using a update collection instead.\n",
      "  warnings.warn('Setting update_collection to None will make u being updated every W execution. This maybe undesirable'\n",
      "../../utils/tfops.py:36: UserWarning: Setting update_collection to None will make u being updated every W execution. This maybe undesirable. Please consider using a update collection instead.\n",
      "  warnings.warn('Setting update_collection to None will make u being updated every W execution. This maybe undesirable'\n",
      "../../utils/tfops.py:36: UserWarning: Setting update_collection to None will make u being updated every W execution. This maybe undesirable. Please consider using a update collection instead.\n",
      "  warnings.warn('Setting update_collection to None will make u being updated every W execution. This maybe undesirable'\n",
      "../../utils/tfops.py:36: UserWarning: Setting update_collection to None will make u being updated every W execution. This maybe undesirable. Please consider using a update collection instead.\n",
      "  warnings.warn('Setting update_collection to None will make u being updated every W execution. This maybe undesirable'\n",
      "../../utils/tfops.py:36: UserWarning: Setting update_collection to None will make u being updated every W execution. This maybe undesirable. Please consider using a update collection instead.\n",
      "  warnings.warn('Setting update_collection to None will make u being updated every W execution. This maybe undesirable'\n",
      "../../utils/tfops.py:36: UserWarning: Setting update_collection to None will make u being updated every W execution. This maybe undesirable. Please consider using a update collection instead.\n",
      "  warnings.warn('Setting update_collection to None will make u being updated every W execution. This maybe undesirable'\n",
      "../../utils/tfops.py:36: UserWarning: Setting update_collection to None will make u being updated every W execution. This maybe undesirable. Please consider using a update collection instead.\n",
      "  warnings.warn('Setting update_collection to None will make u being updated every W execution. This maybe undesirable'\n"
     ]
    },
    {
     "name": "stdout",
     "output_type": "stream",
     "text": [
      "INFO:tensorflow:Saver not created because there are no variables in the graph to restore\n"
     ]
    },
    {
     "name": "stderr",
     "output_type": "stream",
     "text": [
      "INFO:tensorflow:Saver not created because there are no variables in the graph to restore\n"
     ]
    },
    {
     "name": "stdout",
     "output_type": "stream",
     "text": [
      "INFO:tensorflow:Saver not created because there are no variables in the graph to restore\n"
     ]
    },
    {
     "name": "stderr",
     "output_type": "stream",
     "text": [
      "INFO:tensorflow:Saver not created because there are no variables in the graph to restore\n"
     ]
    },
    {
     "name": "stdout",
     "output_type": "stream",
     "text": [
      "INFO:tensorflow:Saver not created because there are no variables in the graph to restore\n"
     ]
    },
    {
     "name": "stderr",
     "output_type": "stream",
     "text": [
      "INFO:tensorflow:Saver not created because there are no variables in the graph to restore\n"
     ]
    },
    {
     "name": "stdout",
     "output_type": "stream",
     "text": [
      "3.5738792\n",
      "2 nan\n"
     ]
    }
   ],
   "source": [
    "\n",
    "\n",
    "#####                                                                                                                                                                                                                                                                                     \n",
    "\n",
    "tf.reset_default_graph()\n",
    "\n",
    "nfilter = 32\n",
    "num_iters = 1\n",
    "normwt = 0.9\n",
    "\n",
    "def module_fn():\n",
    "    '''Define network here'''\n",
    "    x = tf.placeholder(tf.float32, shape=[None, nc, nc, nc], name='input')\n",
    "    y = tf.placeholder(tf.float32, shape=[None, nc, nc, nc], name='output')\n",
    "\n",
    "    xx = tf.expand_dims(x, -1)\n",
    "\n",
    "#     net = specconv3d(xx, nfilter, 5, num_iters=num_iters, normwt=normwt)\n",
    "#     net = activation=tf.nn.leaky_relu(net)\n",
    "#     net = tf.nn.leaky_relu(net)\n",
    "    \n",
    "    net = xx\n",
    "    \n",
    "    subnet = specconv3d(net, nfilter, 3, name='l11', num_iters=num_iters, normwt=normwt)\n",
    "    net = net + specconv3d(subnet,1, 3, name='l12', num_iters=num_iters, normwt=normwt)\n",
    "#     net = tf.nn.dropout(net, 0.95)\n",
    "\n",
    "    net = tf.nn.leaky_relu(net)\n",
    "    subnet = specconv3d(net, nfilter, 3, name='l21', num_iters=num_iters, normwt=normwt)\n",
    "    net = net + specconv3d(subnet,1, 3, name='l22', num_iters=num_iters, normwt=normwt)\n",
    "#     net = tf.nn.dropout(net, 0.95)\n",
    "\n",
    "    net = tf.nn.leaky_relu(net)\n",
    "    subnet = specconv3d(net, nfilter, 3, name='l31', num_iters=num_iters, normwt=normwt)\n",
    "    net = net + specconv3d(subnet,1, 3, name='l32', num_iters=num_iters, normwt=normwt)\n",
    "#     net = tf.nn.dropout(net, 0.95)\n",
    "\n",
    "    net = tf.nn.leaky_relu(net)\n",
    "    subnet = specconv3d(net, nfilter, 3, name='l41', num_iters=num_iters, normwt=normwt)\n",
    "    net = net + specconv3d(subnet,1, 3, name='l42', num_iters=num_iters, normwt=normwt)\n",
    "#     net = tf.nn.dropout(net, 0.95)\n",
    "\n",
    "    net = tf.nn.leaky_relu(net)\n",
    "    subnet = specconv3d(net, nfilter, 3, name='l51', num_iters=num_iters, normwt=normwt)\n",
    "    net = net + specconv3d(subnet,1, 3, name='l52', num_iters=num_iters, normwt=normwt)\n",
    "#     net = tf.nn.dropout(net, 0.95)\n",
    "\n",
    "    net = tf.nn.leaky_relu(net)\n",
    "    subnet = specconv3d(net, nfilter, 3, name='l61', num_iters=num_iters, normwt=normwt)\n",
    "    net = net + specconv3d(subnet,1, 3, name='l62', num_iters=num_iters, normwt=normwt)\n",
    "#     net = tf.nn.dropout(net, 0.95)\n",
    "\n",
    "    net = tf.nn.leaky_relu(net)\n",
    "    subnet = specconv3d(net, nfilter, 3, name='l71', num_iters=num_iters, normwt=normwt)\n",
    "    net = net + specconv3d(subnet,1, 3, name='l72', num_iters=num_iters, normwt=normwt)\n",
    "#     lognet = tf.nn.dropout(net, 0.95)\n",
    "\n",
    "    net = tf.nn.leaky_relu(net)\n",
    "    subnet = specconv3d(net, nfilter, 3, name='l81', num_iters=num_iters, normwt=normwt)\n",
    "    net = net + specconv3d(subnet,1, 3, name='l82', num_iters=num_iters, normwt=normwt)\n",
    "#     lognet = tf.nn.dropout(net, 0.95)\n",
    "\n",
    "    net = tf.nn.leaky_relu(net)\n",
    "    subnet = specconv3d(net, nfilter, 3, name='l91', num_iters=num_iters, normwt=normwt)\n",
    "    net = net + specconv3d(subnet,1, 3, name='l92', num_iters=num_iters, normwt=normwt)\n",
    "#     lognet = tf.nn.dropout(net, 0.95)\n",
    "\n",
    "#     net = tf.nn.leaky_relu(net)\n",
    "#     lognet = specconv3d(net, 1, 1, name='lognet', num_iters=num_iters, normwt=normwt)\n",
    "    \n",
    "    lognet = net\n",
    "    rate = tf.nn.softplus(lognet)\n",
    "    rate = tf.squeeze(rate)\n",
    "    rate = tf.identity(rate, name='rate')\n",
    "    mixture_dist = tfd.Poisson(rate=rate)\n",
    "    sample = tf.squeeze(mixture_dist.sample())\n",
    "#     loglik = mixture_dist.log_prob(tf.expand_dims(y, -1))\n",
    "    loglik = mixture_dist.log_prob(y)\n",
    "    \n",
    "    \n",
    "    hub.add_signature(inputs={'features':x, 'labels':y}, \n",
    "#                           outputs={'sample':sample, 'loglikelihood':loglik, 'loc':loc, \n",
    "#                                   'scale':scale, 'logits':logits})\n",
    "                        outputs={'sample':sample, 'loglikelihood':loglik, 'lograte':lognet, 'rate':rate})\n",
    "    \n",
    "    \n",
    "#####                                                                                                                                                                                                                                                                                     \n",
    "\n",
    "\n",
    "spec = hub.create_module_spec(module_fn)\n",
    "module = hub.Module(spec, trainable=True)\n",
    "\n",
    "\n",
    "xx = tf.placeholder(tf.float32, shape=[None, nc, nc, nc], name='input')\n",
    "yy = tf.placeholder(tf.float32, shape=[None, nc, nc, nc], name='input')\n",
    "rate = module({'features':xx, 'labels':yy}, as_dict=True)['rate']\n",
    "loglik = module({'features':xx, 'labels':yy}, as_dict=True)['loglikelihood']\n",
    "sample = module({'features':xx, 'labels':yy}, as_dict=True)['sample']\n",
    "loss = loglik#tf.reduce_sum(tf.square(tf.add(rate, -yy)), axis=-1)\n",
    "loss = -tf.reduce_mean(loss)\n",
    "\n",
    "lr = tf.placeholder(tf.float32)\n",
    "optimizer = tf.train.AdamOptimizer(learning_rate=lr)\n",
    "train_op = optimizer.minimize(loss)\n",
    "\n",
    "sess = tf.Session()\n",
    "sess.run(tf.global_variables_initializer())\n",
    "losses =[]\n",
    "\n",
    "\n",
    "\n",
    "data_size = 800\n",
    "batch_size = 32\n",
    "\n",
    "for i in range(500):\n",
    "    inds = np.random.randint(0, data_size, batch_size)\n",
    "    x = fins[inds]\n",
    "    y = finsample[inds]\n",
    "    l,_= sess.run([loss, train_op], feed_dict={xx:x, yy:y, lr:0.01})\n",
    "    if np.isnan(l): \n",
    "        print(i, l)\n",
    "        break\n",
    "    losses.append(l)\n",
    "    if i%300 ==0: print(l)\n",
    "# for i in range(500):\n",
    "#     inds = np.random.randint(0, data_size, batch_size)\n",
    "#     x = fins[inds]\n",
    "#     y = finsample[inds]\n",
    "#     l,_= sess.run([loss, train_op], feed_dict={xx:x, yy:y, lr:0.0005})\n",
    "#     if np.isnan(l): \n",
    "#         print(i, l)\n",
    "#         break\n",
    "#     losses.append(l)\n",
    "#     if i%300 ==0: print(l)\n",
    "# for i in range(500):\n",
    "#     inds = np.random.randint(0, data_size, batch_size)\n",
    "#     x = fins[inds]\n",
    "#     y = finsample[inds]\n",
    "#     l,_= sess.run([loss, train_op], feed_dict={xx:x, yy:y, lr:0.0001})\n",
    "#     if np.isnan(l): print(i, l)\n",
    "#     losses.append(l)\n",
    "#     if i%300 ==0: print(l)\n",
    "\n",
    "        \n",
    "        \n",
    "if not np.isnan(l):\n",
    "    learnspecfin = sess.run(sample, feed_dict={xx:fins, yy:y})\n",
    "    learnspecfinrate = sess.run(rate, feed_dict={xx:fins, yy:y})\n"
   ]
  },
  {
   "cell_type": "code",
   "execution_count": null,
   "metadata": {},
   "outputs": [],
   "source": [
    "plot(losses[1:])\n",
    "plt.yscale('log')\n",
    "plt.xscale('log')\n",
    "plt.show()\n"
   ]
  },
  {
   "cell_type": "code",
   "execution_count": null,
   "metadata": {},
   "outputs": [],
   "source": [
    "\n",
    "def thisplot(axis, mat, title):\n",
    "    \n",
    "    im = axis.imshow(mat[...].sum(axis=0))\n",
    "    plt.colorbar(im, ax=axis)\n",
    "    axis.set_title(title)\n",
    "    \n",
    "\n",
    "ii = 0 \n",
    "\n",
    "fig, ax = plt.subplots(1, 4, figsize = (18, 4))\n",
    "\n",
    "axis, mat, title = ax[0], fins[ii], 'True Input'\n",
    "thisplot(axis, mat, title)\n",
    "\n",
    "axis, mat, title = ax[1], finsample[ii], 'True Output'\n",
    "thisplot(axis, mat, title)\n",
    "\n",
    "axis, mat, title = ax[2], learnfin[ii], 'Learn Vanilla'\n",
    "thisplot(axis, mat, title)\n",
    "\n",
    "axis, mat, title = ax[3], learnspecfin[ii], 'Learn SpecNorm'\n",
    "thisplot(axis, mat, title)\n",
    "\n"
   ]
  },
  {
   "cell_type": "code",
   "execution_count": null,
   "metadata": {},
   "outputs": [],
   "source": [
    "%%bash\n",
    "ls ./modules/\n",
    "rm -r ./modules/specdensemoduleza3dsamplefin2\n",
    "\n",
    "# module.export('./modules/specdensemoduleza3dsamplefin2', sess)\n"
   ]
  },
  {
   "cell_type": "code",
   "execution_count": 70,
   "metadata": {},
   "outputs": [
    {
     "name": "stderr",
     "output_type": "stream",
     "text": [
      "/home/chmodi/.local/lib/python3.6/site-packages/ipykernel_launcher.py:8: RuntimeWarning: invalid value encountered in true_divide\n",
      "  \n",
      "/home/chmodi/.local/lib/python3.6/site-packages/ipykernel_launcher.py:9: RuntimeWarning: invalid value encountered in true_divide\n",
      "  if __name__ == '__main__':\n"
     ]
    },
    {
     "data": {
      "image/png": "[encoded data removed]",
      "text/plain": [
       "<Figure size 432x288 with 1 Axes>"
      ]
     },
     "metadata": {
      "needs_background": "light"
     },
     "output_type": "display_data"
    }
   ],
   "source": [
    "ii = 1\n",
    "kk, p1 = tools.power(finsample[ii], boxsize=bs)\n",
    "kk, p2 = tools.power(learnfin[ii], boxsize=bs)\n",
    "kk, p5 = tools.power(learnspecfin[ii], boxsize=bs)\n",
    "kk, p12 = tools.power(finsample[ii], learnfin[ii], boxsize=bs)\n",
    "kk, p15 = tools.power(finsample[ii], learnspecfin[ii], boxsize=bs)\n",
    "\n",
    "plt.plot(kk, p12/(p1*p2)**.5, 'r-', label='Learn Final')\n",
    "plt.plot(kk, p15/(p1*p5)**.5, 'c-', label='Learn Spec Final')\n",
    "plt.xscale('log')\n",
    "plt.grid()"
   ]
  },
  {
   "cell_type": "markdown",
   "metadata": {},
   "source": [
    "## recon again"
   ]
  },
  {
   "cell_type": "code",
   "execution_count": 72,
   "metadata": {},
   "outputs": [
    {
     "name": "stdout",
     "output_type": "stream",
     "text": [
      "INFO:tensorflow:Saver not created because there are no variables in the graph to restore\n"
     ]
    },
    {
     "name": "stderr",
     "output_type": "stream",
     "text": [
      "INFO:tensorflow:Saver not created because there are no variables in the graph to restore\n"
     ]
    },
    {
     "name": "stdout",
     "output_type": "stream",
     "text": [
      "INFO:tensorflow:Saver not created because there are no variables in the graph to restore\n"
     ]
    },
    {
     "name": "stderr",
     "output_type": "stream",
     "text": [
      "INFO:tensorflow:Saver not created because there are no variables in the graph to restore\n"
     ]
    },
    {
     "name": "stdout",
     "output_type": "stream",
     "text": [
      "Tensor(\"Neg:0\", shape=(1,), dtype=float32) Tensor(\"prior:0\", shape=(), dtype=float32)\n",
      "0 16902.48\n",
      "300 13298.565\n",
      "600 12145.441\n",
      "900 11554.397\n"
     ]
    }
   ],
   "source": [
    "tf.reset_default_graph()\n",
    "modname = './modules/specdensemoduleza3dsamplefin2/'\n",
    "xreconsspecfin = []\n",
    "losses = []\n",
    "priors = []\n",
    "xinit = []\n",
    "\n",
    "nstart = 1\n",
    "\n",
    "\n",
    "np.random.seed(100)\n",
    "yy = np.array([finsample[testid].copy() for j in range(nstart)])\n",
    "yy = yy\n",
    "xi = 1*randn( nc, nc, nc)\n",
    "xi = xi.astype('float32')\n",
    "\n",
    "recons = doreconfin(yy, xi, modname, useprior=True, niter=1000, lr=0.01)\n",
    "xrecon = np.squeeze(recons[0])\n",
    "#     recons = doreconfin(yy, xrecon, modname, useprior=True, niter=3000, lr=0.005)\n",
    "xreconsspecfin.append(xrecon)\n",
    "losses.append(np.squeeze(recons[1]))\n",
    "priors.append(np.squeeze(recons[2]))\n",
    "xinit.append(xi)\n",
    "\n"
   ]
  },
  {
   "cell_type": "code",
   "execution_count": 157,
   "metadata": {},
   "outputs": [],
   "source": [
    "# np.save('./xreconfinspecdenseza3dsample', xreconsspecfin[0])\n",
    "# # xreconsspecfin = [np.load('./xreconfinspecdenseza3dsample.npy')]"
   ]
  },
  {
   "cell_type": "code",
   "execution_count": 73,
   "metadata": {},
   "outputs": [
    {
     "name": "stdout",
     "output_type": "stream",
     "text": [
      "INFO:tensorflow:Saver not created because there are no variables in the graph to restore\n"
     ]
    },
    {
     "name": "stderr",
     "output_type": "stream",
     "text": [
      "INFO:tensorflow:Saver not created because there are no variables in the graph to restore\n"
     ]
    },
    {
     "name": "stdout",
     "output_type": "stream",
     "text": [
      "INFO:tensorflow:Saver not created because there are no variables in the graph to restore\n"
     ]
    },
    {
     "name": "stderr",
     "output_type": "stream",
     "text": [
      "INFO:tensorflow:Saver not created because there are no variables in the graph to restore\n"
     ]
    }
   ],
   "source": [
    "modname = './modules/specdensemoduleza3dsamplefin2/'\n",
    "samplexreconsspecfin = doreconfin(np.expand_dims(xreconsspecfin[0], 0)*0, \n",
    "                               xreconsspecfin[0], modname=modname, sampleonly=True)\n",
    "\n",
    "tmp = inits[testid].copy()\n",
    "samplelearnspecfin = doreconfin(np.expand_dims(tmp, 0)*0, tmp , modname=modname, sampleonly=True)\n"
   ]
  },
  {
   "cell_type": "markdown",
   "metadata": {},
   "source": [
    "## Compare recon"
   ]
  },
  {
   "cell_type": "code",
   "execution_count": 74,
   "metadata": {},
   "outputs": [],
   "source": [
    "\n",
    "finalxreconsfin = evolvefinal(xreconsfin[0])\n",
    "finalxreconsspecfin = evolvefinal(xreconsspecfin[0])"
   ]
  },
  {
   "cell_type": "code",
   "execution_count": 82,
   "metadata": {},
   "outputs": [],
   "source": [
    "truth = lins[testid]\n",
    "final = fins[testid]\n",
    "data = finsample[testid]"
   ]
  },
  {
   "cell_type": "code",
   "execution_count": 76,
   "metadata": {},
   "outputs": [
    {
     "data": {
      "text/plain": [
       "Text(0.5, 1.0, 'PM + Spec Norm')"
      ]
     },
     "execution_count": 76,
     "metadata": {},
     "output_type": "execute_result"
    },
    {
     "data": {
      "image/png": "[encoded data removed]",
      "text/plain": [
       "<Figure size 1152x360 with 3 Axes>"
      ]
     },
     "metadata": {
      "needs_background": "light"
     },
     "output_type": "display_data"
    }
   ],
   "source": [
    "vmin = -30 \n",
    "vmax = 30\n",
    "\n",
    "fig, ax = plt.subplots(1, 3, figsize = (16, 5), sharex=True, sharey=True)\n",
    "fsize = 14\n",
    "ax[0].imshow(truth.sum(axis=0), vmin=vmin, vmax=vmax)\n",
    "ax[0].set_title('Truth', fontsize=fsize)\n",
    "ax[1].imshow(xreconsfin[0].sum(axis=0), vmin=vmin, vmax=vmax)\n",
    "ax[1].set_title('PM + Vanilla', fontsize=fsize)\n",
    "ax[2].imshow(xreconsspecfin[0].sum(axis=0), vmin=vmin, vmax=vmax)\n",
    "ax[2].set_title('PM + Spec Norm', fontsize=fsize)\n"
   ]
  },
  {
   "cell_type": "code",
   "execution_count": 85,
   "metadata": {},
   "outputs": [
    {
     "data": {
      "text/plain": [
       "Text(0.5, 1.0, 'PM + Spec Norm')"
      ]
     },
     "execution_count": 85,
     "metadata": {},
     "output_type": "execute_result"
    },
    {
     "data": {
      "image/png": "[encoded data removed]",
      "text/plain": [
       "<Figure size 1152x360 with 3 Axes>"
      ]
     },
     "metadata": {
      "needs_background": "light"
     },
     "output_type": "display_data"
    }
   ],
   "source": [
    "vmin = 0 \n",
    "vmax = 100\n",
    "\n",
    "fig, ax = plt.subplots(1, 3, figsize = (16, 5), sharex=True, sharey=True)\n",
    "fsize = 14\n",
    "ax[0].imshow(final.sum(axis=0), vmin=vmin, vmax=vmax)\n",
    "ax[0].set_title('Truth', fontsize=fsize)\n",
    "ax[1].imshow(finalxreconsfin.sum(axis=0), vmin=vmin, vmax=vmax)\n",
    "ax[1].set_title('PM + Vanilla', fontsize=fsize)\n",
    "ax[2].imshow(finalxreconsspecfin.sum(axis=0), vmin=vmin, vmax=vmax)\n",
    "ax[2].set_title('PM + Spec Norm', fontsize=fsize)\n",
    "\n"
   ]
  },
  {
   "cell_type": "code",
   "execution_count": 104,
   "metadata": {},
   "outputs": [
    {
     "data": {
      "text/plain": [
       "Text(0.5, 1.0, 'PM + Spec Norm')"
      ]
     },
     "execution_count": 104,
     "metadata": {},
     "output_type": "execute_result"
    },
    {
     "data": {
      "image/png": "[encoded data removed]",
      "text/plain": [
       "<Figure size 1152x360 with 3 Axes>"
      ]
     },
     "metadata": {
      "needs_background": "light"
     },
     "output_type": "display_data"
    }
   ],
   "source": [
    "vmin = 0 \n",
    "vmax = 20\n",
    "\n",
    "fig, ax = plt.subplots(1, 3, figsize = (16, 5), sharex=True, sharey=True)\n",
    "fsize = 14\n",
    "ax[0].imshow(data.sum(axis=0), vmin=vmin, vmax=vmax)\n",
    "ax[0].set_title('Truth', fontsize=fsize)\n",
    "ax[1].imshow(samplexreconsfin.sum(axis=0), vmin=vmin, vmax=vmax)\n",
    "ax[1].set_title('PM + Vanilla', fontsize=fsize)\n",
    "ax[2].imshow(samplexreconsspecfin.sum(axis=0), vmin=vmin, vmax=vmax)\n",
    "ax[2].set_title('PM + Spec Norm', fontsize=fsize)\n",
    "\n"
   ]
  },
  {
   "cell_type": "code",
   "execution_count": 176,
   "metadata": {},
   "outputs": [],
   "source": [
    "# kk, p1 = tools.power(truth+1, boxsize=bs)\n",
    "# kk, p2 = tools.power(xrecons[0][0]+1, boxsize=bs)\n",
    "# kk, p3 = tools.power(xreconsspec[0][0]+1, boxsize=bs)\n",
    "# kk, p12 = tools.power(truth+1, xrecons[0][0]+1, boxsize=bs)\n",
    "# kk, p13 = tools.power(truth+1, xreconsspec[0][0]+1, boxsize=bs)\n",
    "\n",
    "# kk, p2all = tools.power(xrecons[0].mean(axis=0)+1, boxsize=bs)\n",
    "# kk, p3all = tools.power(xreconsspec[0].mean(axis=0)+1, boxsize=bs)\n",
    "# kk, p12all = tools.power(truth+1, xrecons[0].mean(axis=0)+1, boxsize=bs)\n",
    "# kk, p13all = tools.power(truth+1, xreconsspec[0].mean(axis=0)+1, boxsize=bs)\n",
    "\n",
    "# plt.plot(kk, p12/(p1*p2)**.5, 'r', label='Vanilla recon Single')\n",
    "# plt.plot(kk, p13/(p1*p3)**.5, 'b', label='Spec recon Single')\n",
    "\n",
    "# plt.plot(kk, p12all/(p1*p2all)**.5, 'g--', label='Vanilla recon Mean')\n",
    "# plt.plot(kk, p13all/(p1*p3all)**.5, 'c--', label='Spec recon Mean')\n",
    "\n",
    "# ii = 1\n",
    "# kk, p1 = tools.power(finsample[ii], boxsize=bs)\n",
    "# kk, p2 = tools.power(samplelearn, boxsize=bs)\n",
    "# kk, p3 = tools.power(samplelearnspec, boxsize=bs)\n",
    "# kk, p4 = tools.power(samplelearnfin, boxsize=bs)\n",
    "# kk, p12 = tools.power(finsample[ii], samplelearn, boxsize=bs)\n",
    "# kk, p13 = tools.power(finsample[ii], samplelearnspec, boxsize=bs)\n",
    "# kk, p14 = tools.power(finsample[ii], samplelearnfin, boxsize=bs)\n",
    "\n",
    "# # plt.plot(kk, p12/(p1*p2)**.5, 'k', label='samplelearn Vanilla')\n",
    "# # plt.plot(kk, p13/(p1*p3)**.5, 'k--', label='samplelearn Spec')\n",
    "# # plt.plot(kk, p14/(p1*p4)**.5, 'k:', label='samplelearn Vanilla Fin')\n",
    "\n",
    "\n",
    "# plt.xscale('log')\n",
    "# plt.xlabel('k (h/Mpc)', fontsize=13)\n",
    "# plt.ylabel('r$_c$', fontsize=13)\n",
    "# plt.legend(fontsize=13)\n",
    "\n",
    "# plt.suptitle('Compare mean recon vs single recon')"
   ]
  },
  {
   "cell_type": "code",
   "execution_count": 103,
   "metadata": {},
   "outputs": [
    {
     "name": "stderr",
     "output_type": "stream",
     "text": [
      "/home/chmodi/.local/lib/python3.6/site-packages/ipykernel_launcher.py:12: RuntimeWarning: invalid value encountered in true_divide\n",
      "  if sys.path[0] == '':\n",
      "/home/chmodi/.local/lib/python3.6/site-packages/ipykernel_launcher.py:13: RuntimeWarning: invalid value encountered in true_divide\n",
      "  del sys.path[0]\n",
      "/home/chmodi/.local/lib/python3.6/site-packages/ipykernel_launcher.py:22: RuntimeWarning: invalid value encountered in true_divide\n",
      "/home/chmodi/.local/lib/python3.6/site-packages/ipykernel_launcher.py:23: RuntimeWarning: invalid value encountered in true_divide\n",
      "WARNING:matplotlib.legend:No handles with labels found to put in legend.\n"
     ]
    },
    {
     "data": {
      "image/png": "[encoded data removed]",
      "text/plain": [
       "<Figure size 720x288 with 2 Axes>"
      ]
     },
     "metadata": {
      "needs_background": "light"
     },
     "output_type": "display_data"
    }
   ],
   "source": [
    "plt.figure(figsize = (10, 4))\n",
    "\n",
    "\n",
    "kk, p1 = tools.power(truth+1, boxsize=bs)\n",
    "kk, p4 = tools.power(xreconsfin[0]+1, boxsize=bs)\n",
    "kk, p5 = tools.power(xreconsspecfin[0]+1, boxsize=bs)\n",
    "\n",
    "kk, p14 = tools.power(truth+1, xreconsfin[0]+1, boxsize=bs)\n",
    "kk, p15 = tools.power(truth+1, xreconsspecfin[0]+1, boxsize=bs)\n",
    "\n",
    "ax1 = plt.subplot(1, 2, 1)\n",
    "plt.plot(kk, p14/(p1*p4)**.5, 'C0', label='', lw=1.5)\n",
    "plt.plot(kk, p15/(p1*p5)**.5, 'C1-', label='', lw=3, alpha=0.7)\n",
    "\n",
    "kk, p1 = tools.power(finsample[testid], boxsize=bs)\n",
    "kk, p4 = tools.power(samplelearnfin, boxsize=bs)\n",
    "kk, p5 = tools.power(samplelearnspecfin, boxsize=bs)\n",
    "kk, p14 = tools.power(finsample[testid], samplelearnfin, boxsize=bs)\n",
    "kk, p15 = tools.power(finsample[testid], samplelearnspecfin, boxsize=bs)\n",
    "\n",
    "ax2 = plt.subplot(1, 2, 2)\n",
    "plt.plot(kk, p14/(p1*p4)**.5, 'C0', label='Vanilla', lw=1.5)\n",
    "plt.plot(kk, p15/(p1*p5)**.5, 'C1-', label='SpecNorm', lw=3, alpha=0.7)\n",
    "\n",
    "\n",
    "for axis in [ax1, ax2]:\n",
    "    axis.set_xscale('log')\n",
    "    axis.set_xlabel('k (h/Mpc)', fontsize=14)\n",
    "    axis.set_ylim(0, 1.05)\n",
    "    axis.grid(which='both')\n",
    "    axis.set_xlim(0.07, 1)\n",
    "    axis.legend(fontsize=13)\n",
    "\n",
    "ax1.set_ylabel('r$_c$', fontsize=14)\n",
    "ax1.set_title('Recon', fontsize=14)\n",
    "ax2.set_title('Learning', fontsize=14)\n",
    "plt.show()"
   ]
  },
  {
   "cell_type": "code",
   "execution_count": null,
   "metadata": {},
   "outputs": [],
   "source": []
  }
 ],
 "metadata": {
  "kernelspec": {
   "display_name": "Python 3",
   "language": "python",
   "name": "python3"
  },
  "language_info": {
   "codemirror_mode": {
    "name": "ipython",
    "version": 3
   },
   "file_extension": ".py",
   "mimetype": "text/x-python",
   "name": "python",
   "nbconvert_exporter": "python",
   "pygments_lexer": "ipython3",
   "version": "3.6.7"
  }
 },
 "nbformat": 4,
 "nbformat_minor": 2
}
