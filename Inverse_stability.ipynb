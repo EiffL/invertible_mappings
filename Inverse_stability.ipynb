{
 "cells": [
  {
   "cell_type": "markdown",
   "metadata": {},
   "source": [
    "# Testing regularization of likelihood functions"
   ]
  },
  {
   "cell_type": "code",
   "execution_count": 1,
   "metadata": {},
   "outputs": [
    {
     "name": "stdout",
     "output_type": "stream",
     "text": [
      "Populating the interactive namespace from numpy and matplotlib\n"
     ]
    }
   ],
   "source": [
    "%pylab inline\n",
    "import os\n",
    "os.environ[\"CUDA_VISIBLE_DEVICES\"]=\"0\"\n"
   ]
  },
  {
   "cell_type": "code",
   "execution_count": 2,
   "metadata": {},
   "outputs": [],
   "source": [
    "import tensorflow as tf\n",
    "import tensorflow_probability as tfp\n",
    "tfd = tfp.distributions"
   ]
  },
  {
   "cell_type": "code",
   "execution_count": 5,
   "metadata": {},
   "outputs": [],
   "source": [
    "import tensorflow as tf\n",
    "import tensorflow.contrib.slim as slim\n",
    "from tensorflow.contrib.slim import add_arg_scope\n",
    "import tensorflow_hub as hub\n"
   ]
  },
  {
   "cell_type": "markdown",
   "metadata": {},
   "source": [
    "## Creating the forward model"
   ]
  },
  {
   "cell_type": "code",
   "execution_count": 28,
   "metadata": {},
   "outputs": [
    {
     "name": "stdout",
     "output_type": "stream",
     "text": [
      "INFO:tensorflow:Saver not created because there are no variables in the graph to restore\n",
      "INFO:tensorflow:Saver not created because there are no variables in the graph to restore\n",
      "INFO:tensorflow:Saver not created because there are no variables in the graph to restore\n",
      "INFO:tensorflow:Saver not created because there are no variables in the graph to restore\n"
     ]
    }
   ],
   "source": [
    "ndim = 2\n",
    "batch_size = 10000\n",
    "means = np.array([0., 1.]).astype('float32')\n",
    "stddevs = np.array([1., 2.]).astype('float32')\n",
    "\n",
    "tf.reset_default_graph()\n",
    "\n",
    "def module_fn():\n",
    "    '''Define network here'''\n",
    "    x = tf.placeholder(tf.float32, shape=[None, ndim], name='input')\n",
    "    # This is the linear operator\n",
    "    A = tf.constant(randn(2,2), dtype=tf.float32) / 2.\n",
    "\n",
    "    # Defining the forward model\n",
    "    l = tf.reduce_sum(tf.matmul(x, A), axis=1)\n",
    "    p = tfd.Poisson(log_rate=l)\n",
    "    y = tf.reshape(p.sample(), (-1,))\n",
    "\n",
    "    hub.add_signature(inputs={'input':x}, \n",
    "                          outputs={'sample':y, 'lograte':l, 'transform':A})\n",
    "\n",
    "    \n",
    "#####                                                                                                                                                                                                                                                                                     \n",
    "\n",
    "spec = hub.create_module_spec(module_fn)\n",
    "module = hub.Module(spec, trainable=True)\n",
    "\n",
    "# Defining probabilistic forward model\n",
    "prior = tfd.Normal(loc=means, scale=stddevs)\n",
    "x = prior.sample(batch_size)\n",
    "l = module({'input':x}, as_dict=True)['lograte']\n",
    "y = module({'input':x}, as_dict=True)['sample']\n",
    "A = module({'input':x}, as_dict=True)['transform']\n",
    "\n",
    "\n",
    "sess = tf.Session()\n",
    "sess.run(tf.global_variables_initializer())\n",
    "sx, sy, sl, AA = sess.run([x, y, l, A])\n",
    "\n",
    "\n"
   ]
  },
  {
   "cell_type": "code",
   "execution_count": 26,
   "metadata": {},
   "outputs": [
    {
     "name": "stdout",
     "output_type": "stream",
     "text": [
      "densemodule\n"
     ]
    }
   ],
   "source": [
    "%%bash\n",
    "ls modules/\n",
    "# rm -r modules/fwdmodel/"
   ]
  },
  {
   "cell_type": "code",
   "execution_count": 29,
   "metadata": {},
   "outputs": [
    {
     "name": "stdout",
     "output_type": "stream",
     "text": [
      "INFO:tensorflow:Exported TF-Hub module to: ./modules/fwdmodel\n"
     ]
    }
   ],
   "source": [
    "# module.export('./modules/fwdmodel', sess)\n"
   ]
  },
  {
   "cell_type": "code",
   "execution_count": 32,
   "metadata": {},
   "outputs": [
    {
     "name": "stderr",
     "output_type": "stream",
     "text": [
      "/home/chmodi/.local/lib/python3.6/site-packages/matplotlib/axes/_axes.py:6510: MatplotlibDeprecationWarning: \n",
      "The 'normed' kwarg was deprecated in Matplotlib 2.1 and will be removed in 3.1. Use 'density' instead.\n",
      "  alternative=\"'density'\", removal=\"3.1\")\n"
     ]
    },
    {
     "data": {
      "image/png": "[encoded data removed]",
      "text/plain": [
       "<Figure size 432x288 with 1 Axes>"
      ]
     },
     "metadata": {
      "needs_background": "light"
     },
     "output_type": "display_data"
    }
   ],
   "source": [
    "plt.hist(sy, bins=100, normed=True)\n",
    "plt.show()"
   ]
  },
  {
   "cell_type": "code",
   "execution_count": 33,
   "metadata": {},
   "outputs": [
    {
     "data": {
      "text/plain": [
       "(6.085203, 452.0)"
      ]
     },
     "execution_count": 33,
     "metadata": {},
     "output_type": "execute_result"
    }
   ],
   "source": [
    "sl.max(), sy.max()"
   ]
  },
  {
   "cell_type": "code",
   "execution_count": 34,
   "metadata": {},
   "outputs": [
    {
     "data": {
      "image/png": "[encoded data removed]",
      "text/plain": [
       "<Figure size 432x288 with 2 Axes>"
      ]
     },
     "metadata": {
      "needs_background": "light"
     },
     "output_type": "display_data"
    }
   ],
   "source": [
    "subplot(121)\n",
    "# hist2d(sx[:,0], sy);\n",
    "hist2d(sx[:,0], clip(sy.flatten(),0,10));\n",
    "subplot(122)\n",
    "# hist2d(sx[:,1], sy);\n",
    "hist2d(sx[:,1], clip(sy.flatten(),0,10));"
   ]
  },
  {
   "cell_type": "code",
   "execution_count": 35,
   "metadata": {},
   "outputs": [
    {
     "data": {
      "image/png": "[encoded data removed]",
      "text/plain": [
       "<Figure size 360x360 with 4 Axes>"
      ]
     },
     "metadata": {
      "needs_background": "light"
     },
     "output_type": "display_data"
    }
   ],
   "source": [
    "# Have a look at the posterior on x for a given outcome y\n",
    "figure(figsize=(5,5))\n",
    "for i in range(4):\n",
    "    subplot(2,2,i+1)\n",
    "    m = (sy == i)\n",
    "    hist2d(sx[:,0][m], sx[:,1][m],32,range=[[-4,4],[-4,4]],normed=True);gca().set_aspect('equal');"
   ]
  },
  {
   "cell_type": "code",
   "execution_count": 36,
   "metadata": {},
   "outputs": [],
   "source": [
    "# Now, let's try to train a neural network to model the likelihood function"
   ]
  },
  {
   "cell_type": "markdown",
   "metadata": {},
   "source": [
    "# Module"
   ]
  },
  {
   "cell_type": "markdown",
   "metadata": {},
   "source": [
    "Train a neural network in a module "
   ]
  },
  {
   "cell_type": "code",
   "execution_count": 37,
   "metadata": {},
   "outputs": [
    {
     "name": "stdout",
     "output_type": "stream",
     "text": [
      "INFO:tensorflow:Saver not created because there are no variables in the graph to restore\n",
      "INFO:tensorflow:Saver not created because there are no variables in the graph to restore\n",
      "INFO:tensorflow:Saver not created because there are no variables in the graph to restore\n"
     ]
    }
   ],
   "source": [
    "tf.reset_default_graph()\n",
    "\n",
    "\n",
    "def module_fn():\n",
    "    '''Define network here'''\n",
    "    x = tf.placeholder(tf.float32, shape=[None, ndim], name='input')\n",
    "    y = tf.placeholder(tf.float32, shape=[None], name='output')\n",
    "\n",
    "    net = tf.layers.dense(x,1024, activation=tf.nn.leaky_relu)\n",
    "    net = tf.layers.dense(net,512, activation=tf.nn.leaky_relu)\n",
    "    net = tf.layers.dense(net,1)\n",
    "#     net = tf.nn.softplus(net, name='lograte')\n",
    "    out_prob = tfd.Poisson(log_rate=net, name='out_prob')\n",
    "    loglik = out_prob.log_prob(tf.expand_dims(y, axis=-1))\n",
    "    sample = out_prob.sample(name='prediction')\n",
    "    #\n",
    "    # \n",
    "    inputs = dict(input=x, label=y)\n",
    "    outputs = dict(default=net, loglik=loglik, prediction=sample)\n",
    "    hub.add_signature(inputs={'features':x, 'labels':y}, \n",
    "                          outputs={'sample':sample, 'loglikelihood':loglik, 'lograte':net})\n",
    "    \n",
    "#####                                                                                                                                                                                                                                                                                     \n",
    "\n",
    "spec = hub.create_module_spec(module_fn)\n",
    "module = hub.Module(spec, trainable=True)\n",
    "\n",
    "xx = tf.placeholder(tf.float32, shape=[None, ndim], name='input')\n",
    "lograte = module({'features':xx, 'labels':sy}, as_dict=True)['lograte']\n",
    "loglik = module({'features':xx, 'labels':sy}, as_dict=True)['loglikelihood']\n",
    "sample = module({'features':xx, 'labels':sy}, as_dict=True)['sample']\n",
    "loss = -tf.reduce_mean(loglik)\n",
    "\n",
    "\n",
    "optimizer = tf.train.AdamOptimizer(learning_rate=0.001)\n",
    "train_op = optimizer.minimize(loss)\n",
    "\n",
    "sess = tf.Session()\n",
    "sess.run(tf.global_variables_initializer())\n",
    "losses =[]\n",
    "\n",
    "lrate0 = sess.run(lograte, feed_dict={xx:sx[:10]})\n",
    "for i in range(2000):\n",
    "    l,_= sess.run([loss, train_op], feed_dict={xx:sx})\n",
    "    losses.append(l)\n",
    "lrate1 = sess.run(lograte, feed_dict={xx:sx[:10]})\n",
    "pred = sess.run(sample, feed_dict={xx:sx})\n",
    "\n",
    "\n",
    "# module.export('./densemodule', sess)\n"
   ]
  },
  {
   "cell_type": "code",
   "execution_count": 38,
   "metadata": {},
   "outputs": [
    {
     "data": {
      "image/png": "[encoded data removed]",
      "text/plain": [
       "<Figure size 432x288 with 1 Axes>"
      ]
     },
     "metadata": {
      "needs_background": "light"
     },
     "output_type": "display_data"
    },
    {
     "data": {
      "image/png": "[encoded data removed]",
      "text/plain": [
       "<Figure size 432x288 with 2 Axes>"
      ]
     },
     "metadata": {
      "needs_background": "light"
     },
     "output_type": "display_data"
    }
   ],
   "source": [
    "plot(losses)\n",
    "plt.yscale('log')\n",
    "plt.show()\n",
    "hist2d(pred[:,0],sy,20,range=[[0,20],[0,20]],cmap='gist_stern');\n",
    "plt.colorbar()\n",
    "plt.show()"
   ]
  },
  {
   "cell_type": "code",
   "execution_count": 45,
   "metadata": {},
   "outputs": [
    {
     "name": "stdout",
     "output_type": "stream",
     "text": [
      "densemodule\n",
      "fwdmodel\n"
     ]
    }
   ],
   "source": [
    "%%bash\n",
    "ls modules/\n",
    "# rm -r ./modules/densemodule\n"
   ]
  },
  {
   "cell_type": "code",
   "execution_count": 46,
   "metadata": {},
   "outputs": [],
   "source": [
    "# module.export('./modules/densemodule', sess)\n"
   ]
  },
  {
   "cell_type": "markdown",
   "metadata": {},
   "source": [
    "Ok, fair enough"
   ]
  },
  {
   "cell_type": "code",
   "execution_count": 47,
   "metadata": {},
   "outputs": [],
   "source": [
    "# Now, let's see what happens if we try to maximize p(y | x) with respect to x "
   ]
  },
  {
   "cell_type": "markdown",
   "metadata": {},
   "source": [
    "\n",
    "Ok, so there is a little bit of code restructuring to do, but the idea here is to see if when we do gradient descent over x, we end up far away from a credible input x value, by that I mean, is $\\hat{x}$ within the posterior on x for y=4"
   ]
  },
  {
   "cell_type": "markdown",
   "metadata": {},
   "source": [
    "# Reconstruct here"
   ]
  },
  {
   "cell_type": "code",
   "execution_count": 72,
   "metadata": {},
   "outputs": [],
   "source": [
    "\n",
    "def dorecon(yy, modname, useprior=True):\n",
    "    tf.reset_default_graph()\n",
    "    module = hub.Module(modname, trainable=False)\n",
    "\n",
    "    xrecon = tf.get_variable('xrecon', shape=(yy.shape[0], 2), \n",
    "                             initializer=tf.random_normal_initializer(mean=(0, 0)), trainable=True)\n",
    "\n",
    "    loglik = -module({'features':xrecon, 'labels':yy}, as_dict=True)['loglikelihood']\n",
    "    prior = tf.square(xrecon)\n",
    "    prior = tf.multiply(prior, stddevs**-2)\n",
    "    prior = tf.reduce_sum(prior, axis=-1, keepdims=True)\n",
    "    if useprior: loss = tf.add(loglik, prior)\n",
    "    else: loss = loglik\n",
    "#   \n",
    "    optimizer = tf.train.GradientDescentOptimizer(learning_rate=0.001)\n",
    "    opt_op = optimizer.minimize(loss, var_list=[xrecon])\n",
    "\n",
    "    niter = 5000\n",
    "\n",
    "    with tf.Session() as sess:\n",
    "        sess.run(tf.global_variables_initializer())\n",
    "        xinit = sess.run(xrecon)\n",
    "        losses = []\n",
    "        for it in range(niter+1):\n",
    "            _, l = sess.run([opt_op, loss])\n",
    "            losses.append(l)\n",
    "        xfin = sess.run(xrecon)\n",
    "        \n",
    "    return xfin, losses"
   ]
  },
  {
   "cell_type": "code",
   "execution_count": 96,
   "metadata": {},
   "outputs": [
    {
     "name": "stdout",
     "output_type": "stream",
     "text": [
      "INFO:tensorflow:Saver not created because there are no variables in the graph to restore\n",
      "INFO:tensorflow:Saver not created because there are no variables in the graph to restore\n",
      "INFO:tensorflow:Saver not created because there are no variables in the graph to restore\n",
      "INFO:tensorflow:Saver not created because there are no variables in the graph to restore\n"
     ]
    }
   ],
   "source": [
    "tf.reset_default_graph()\n",
    "modname = './modules/densemodule/'\n",
    "xfins = []\n",
    "for i in range(4):\n",
    "    ii = 2*i\n",
    "    yy = ii* ones((512)).astype('float32')\n",
    "    recons = dorecon(yy, modname, useprior=True)\n",
    "    xfin = np.squeeze(recons[0])\n",
    "    xfins.append(xfin)\n",
    "\n"
   ]
  },
  {
   "cell_type": "code",
   "execution_count": 97,
   "metadata": {},
   "outputs": [
    {
     "data": {
      "image/png": "[encoded data removed]",
      "text/plain": [
       "<Figure size 432x288 with 1 Axes>"
      ]
     },
     "metadata": {
      "needs_background": "light"
     },
     "output_type": "display_data"
    },
    {
     "name": "stdout",
     "output_type": "stream",
     "text": [
      "0 5577\n",
      "2 901\n",
      "4 259\n",
      "6 123\n"
     ]
    },
    {
     "data": {
      "image/png": "[encoded data removed]",
      "text/plain": [
       "<Figure size 1008x576 with 8 Axes>"
      ]
     },
     "metadata": {
      "needs_background": "light"
     },
     "output_type": "display_data"
    }
   ],
   "source": [
    "plt.plot(np.squeeze(np.array(recons[1])[:, 0]))\n",
    "plt.show()\n",
    "\n",
    "fig, ax = plt.subplots(2,4, figsize=(14, 8), sharex=True, sharey=True)\n",
    "for i in range(4):\n",
    "    ii = 2*i\n",
    "    m = (sy == ii)\n",
    "    print(ii, m.sum())\n",
    "    ax[0, i].hist2d(sx[:,0][m], sx[:,1][m],32,range=[[-4,4],[-4,4]],normed=True)#;gca().set_aspect('equal')\n",
    "    ax[1, i].hist2d(xfins[i].T[0].flatten(), xfins[i].T[1].flatten(),32,\n",
    "           range=[[-4,4],[-4,4]],normed=True)#;gca().set_aspect('equal')\n",
    "    ax[0, i].set_title('i = %d'%ii)\n",
    "    ax[0, 0].set_ylabel('Truth')\n",
    "    ax[1, 0].set_ylabel('Recon')\n",
    "    \n",
    "for axis in ax.flatten(): axis.grid(which='both')\n",
    "    # plt.colorbar()\n"
   ]
  },
  {
   "cell_type": "code",
   "execution_count": 98,
   "metadata": {},
   "outputs": [
    {
     "name": "stdout",
     "output_type": "stream",
     "text": [
      "INFO:tensorflow:Saver not created because there are no variables in the graph to restore\n",
      "INFO:tensorflow:Saver not created because there are no variables in the graph to restore\n",
      "INFO:tensorflow:Saver not created because there are no variables in the graph to restore\n",
      "INFO:tensorflow:Saver not created because there are no variables in the graph to restore\n",
      "INFO:tensorflow:Saver not created because there are no variables in the graph to restore\n"
     ]
    },
    {
     "data": {
      "image/png": "[encoded data removed]",
      "text/plain": [
       "<Figure size 432x288 with 1 Axes>"
      ]
     },
     "metadata": {
      "needs_background": "light"
     },
     "output_type": "display_data"
    }
   ],
   "source": [
    "tf.reset_default_graph()\n",
    "\n",
    "fwmodule = hub.Module('./modules/fwdmodel/')\n",
    "\n",
    "with tf.Session() as sess:\n",
    "    sess.run(tf.global_variables_initializer())\n",
    "    for i in range(4):\n",
    "        samples = fwmodule({'input':xfins[i]}, as_dict=True)['sample']\n",
    "        samples = sess.run(samples)\n",
    "        plt.hist(samples, alpha=0.7, range=(0, 10), bins=10, color='C%d'%i, histtype='step', lw=3)\n",
    "        plt.axvline(2*i, color='C%d'%i, ls=\"--\")\n",
    "    plt.title('True Forward Model')"
   ]
  },
  {
   "cell_type": "code",
   "execution_count": 395,
   "metadata": {},
   "outputs": [],
   "source": [
    "# for i in range(3):\n",
    "#     rates = np.array([np.matmul(i, AA) for i in xfins[i]]).sum(axis=1)\n",
    "#     plt.hist(np.random.poisson(np.exp(rates)), alpha=0.7, range=(0, 10), bins=10, color='C%d'%i)\n",
    "#     plt.axvline(2*i, color='C%d'%i)\n",
    "#     plt.title('True Forward Model')"
   ]
  },
  {
   "cell_type": "markdown",
   "metadata": {},
   "source": [
    "# Custom dense layer"
   ]
  },
  {
   "cell_type": "code",
   "execution_count": 60,
   "metadata": {},
   "outputs": [],
   "source": [
    "import sys\n",
    "sys.path.append('./utils/')\n",
    "import tfops, layers\n",
    "from layers import SpecDenseLayer"
   ]
  },
  {
   "cell_type": "code",
   "execution_count": 460,
   "metadata": {},
   "outputs": [
    {
     "name": "stdout",
     "output_type": "stream",
     "text": [
      "(20, 5)\n",
      "Tensor(\"spec_dense_layer/spec_dense_layer/kernelspecnorm/Identity:0\", shape=(20, 10), dtype=float32)\n",
      "[<tf.Variable 'spec_dense_layer/kernel:0' shape=(5, 10) dtype=float32>, <tf.Variable 'spec_dense_layer/bias:0' shape=(10,) dtype=float32>]\n"
     ]
    },
    {
     "name": "stderr",
     "output_type": "stream",
     "text": [
      "./utils/tfops.py:35: UserWarning: Setting update_collection to None will make u being updated every W execution. This maybe undesirable. Please consider using a update collection instead.\n",
      "  warnings.warn('Setting update_collection to None will make u being updated every W execution. This maybe undesirable'\n"
     ]
    }
   ],
   "source": [
    "# class SpecDenseLayer(tf.keras.layers.Layer):\n",
    "#     def __init__(self, num_outputs, activation=None):\n",
    "#         super(SpecDenseLayer, self).__init__()\n",
    "#         self.num_outputs = num_outputs\n",
    "#         if activation is None: activation = tf.identity\n",
    "#         self.activation = activation\n",
    "# #         print(self.name)\n",
    "    \n",
    "#     def build(self, input_shape):\n",
    "#         self.kernel = self.add_variable(\"kernel\", \n",
    "#                                     shape=[int(input_shape[-1]), \n",
    "#                                            self.num_outputs])\n",
    "#         self.bias = self.add_variable(\"bias\", \n",
    "#                                     shape=[self.num_outputs])\n",
    "    \n",
    "# #     def call(self, input):\n",
    "# #         x = tf.matmul(input, self.kernel)\n",
    "# #         x += self.bias\n",
    "# #         x = self.activation(x)\n",
    "# #         return x\n",
    "\n",
    "#     def call(self, input):\n",
    "#         with tf.variable_scope(self.name+'/kernelspecnorm') as scope:\n",
    "#             if tfops.scope_has_variables(scope):\n",
    "#                 scope.reuse_variables()\n",
    "#             x = tf.matmul(input, tfops.spectral_normed_weight(self.kernel))\n",
    "#             x += self.bias\n",
    "#             x = self.activation(x)\n",
    "#             return x\n",
    "\n",
    "\n",
    "# tf.reset_default_graph()\n",
    "# layer = SpecDenseLayer(10)\n",
    "# # print(layer(tf.zeros([10, 5])))\n",
    "# inp = (tf.zeros([20, 5]))\n",
    "# print(inp.shape)\n",
    "# print(layer(inp))\n",
    "# print(layer.trainable_variables)\n"
   ]
  },
  {
   "cell_type": "code",
   "execution_count": 62,
   "metadata": {},
   "outputs": [],
   "source": [
    "# tf.reset_default_graph()\n",
    "\n",
    "# l1 = SpecDenseLayer(1024, activation=tf.nn.leaky_relu)\n",
    "# l2 = SpecDenseLayer(512, activation=tf.nn.leaky_relu)\n",
    "# l3 = SpecDenseLayer(1)\n",
    "\n",
    "# net = l1(sx)\n",
    "# # net = l2(net)\n",
    "# net = l3(net)\n",
    "# out_prob = tfd.Poisson(log_rate=net)\n",
    "# pred = out_prob.sample()\n",
    "\n",
    "# loss = -tf.reduce_mean(out_prob.log_prob(tf.expand_dims(sy, axis=-1)))\n",
    "\n",
    "# optimizer = tf.train.AdamOptimizer(learning_rate=0.001)\n",
    "# train_op = optimizer.minimize(loss)\n",
    "\n",
    "# sess = tf.Session()\n",
    "# sess.run(tf.global_variables_initializer())\n",
    "\n",
    "# losses =[]\n",
    "# for i in range(2000):\n",
    "#     l,_= sess.run([loss, train_op])\n",
    "#     losses.append(l)\n",
    "    \n",
    "# plot(losses)\n",
    "# plt.yscale('log')\n",
    "# plt.show()\n",
    "\n",
    "# # Try to predict the outcome\n",
    "# tp = sess.run(pred)\n",
    "\n",
    "# hist2d(tp[:,0],sy,20,range=[[0,20],[0,20]],cmap='gist_stern');\n",
    "# plt.colorbar()\n"
   ]
  },
  {
   "cell_type": "code",
   "execution_count": 66,
   "metadata": {},
   "outputs": [
    {
     "name": "stderr",
     "output_type": "stream",
     "text": [
      "./utils/tfops.py:35: UserWarning: Setting update_collection to None will make u being updated every W execution. This maybe undesirable. Please consider using a update collection instead.\n",
      "  warnings.warn('Setting update_collection to None will make u being updated every W execution. This maybe undesirable'\n",
      "./utils/tfops.py:35: UserWarning: Setting update_collection to None will make u being updated every W execution. This maybe undesirable. Please consider using a update collection instead.\n",
      "  warnings.warn('Setting update_collection to None will make u being updated every W execution. This maybe undesirable'\n",
      "./utils/tfops.py:35: UserWarning: Setting update_collection to None will make u being updated every W execution. This maybe undesirable. Please consider using a update collection instead.\n",
      "  warnings.warn('Setting update_collection to None will make u being updated every W execution. This maybe undesirable'\n"
     ]
    },
    {
     "name": "stdout",
     "output_type": "stream",
     "text": [
      "INFO:tensorflow:Saver not created because there are no variables in the graph to restore\n",
      "INFO:tensorflow:Saver not created because there are no variables in the graph to restore\n",
      "INFO:tensorflow:Saver not created because there are no variables in the graph to restore\n"
     ]
    }
   ],
   "source": [
    "tf.reset_default_graph()\n",
    "\n",
    "\n",
    "def module_fn():\n",
    "    '''Define network here'''\n",
    "    x = tf.placeholder(tf.float32, shape=[None, ndim], name='input')\n",
    "    y = tf.placeholder(tf.float32, shape=[None], name='output')\n",
    "\n",
    "    net = SpecDenseLayer(1024, activation=tf.nn.leaky_relu)(x)\n",
    "    net = SpecDenseLayer(512, activation=tf.nn.leaky_relu)(net)\n",
    "    net = SpecDenseLayer(1)(net)\n",
    "#     net = tf.nn.softplus(net, name='lograte')\n",
    "    out_prob = tfd.Poisson(log_rate=net, name='out_prob')\n",
    "    loglik = out_prob.log_prob(tf.expand_dims(y, axis=-1))\n",
    "    sample = out_prob.sample(name='prediction')\n",
    "    #\n",
    "    # \n",
    "    inputs = dict(input=x, label=y)\n",
    "    outputs = dict(default=net, loglik=loglik, prediction=sample)\n",
    "    hub.add_signature(inputs={'features':x, 'labels':y}, \n",
    "                          outputs={'sample':sample, 'loglikelihood':loglik, 'lograte':net})\n",
    "    \n",
    "#####                                                                                                                                                                                                                                                                                     \n",
    "\n",
    "spec = hub.create_module_spec(module_fn)\n",
    "module = hub.Module(spec, trainable=True)\n",
    "\n",
    "xx = tf.placeholder(tf.float32, shape=[None, ndim], name='input')\n",
    "lograte = module({'features':xx, 'labels':sy}, as_dict=True)['lograte']\n",
    "loglik = module({'features':xx, 'labels':sy}, as_dict=True)['loglikelihood']\n",
    "sample = module({'features':xx, 'labels':sy}, as_dict=True)['sample']\n",
    "loss = -tf.reduce_mean(loglik)\n",
    "\n",
    "\n",
    "optimizer = tf.train.AdamOptimizer(learning_rate=0.001)\n",
    "train_op = optimizer.minimize(loss)\n",
    "\n",
    "sess = tf.Session()\n",
    "sess.run(tf.global_variables_initializer())\n",
    "losses =[]\n",
    "\n",
    "lrate0 = sess.run(lograte, feed_dict={xx:sx[:10]})\n",
    "for i in range(2000):\n",
    "    l,_= sess.run([loss, train_op], feed_dict={xx:sx})\n",
    "    losses.append(l)\n",
    "lrate1 = sess.run(lograte, feed_dict={xx:sx[:10]})\n",
    "pred = sess.run(sample, feed_dict={xx:sx})\n",
    "\n",
    "\n",
    "# module.export('./densemodule', sess)\n"
   ]
  },
  {
   "cell_type": "code",
   "execution_count": 67,
   "metadata": {},
   "outputs": [
    {
     "name": "stdout",
     "output_type": "stream",
     "text": [
      "densemodule\n",
      "fwdmodel\n",
      "specdensemodule\n"
     ]
    }
   ],
   "source": [
    "%%bash\n",
    "ls modules/\n",
    "# rm -r ./modules/specdensemodule\n"
   ]
  },
  {
   "cell_type": "code",
   "execution_count": 70,
   "metadata": {},
   "outputs": [],
   "source": [
    "# module.export('./modules/specdensemodule', sess)\n"
   ]
  },
  {
   "cell_type": "markdown",
   "metadata": {},
   "source": [
    "## recon again "
   ]
  },
  {
   "cell_type": "code",
   "execution_count": 99,
   "metadata": {},
   "outputs": [
    {
     "name": "stdout",
     "output_type": "stream",
     "text": [
      "INFO:tensorflow:Saver not created because there are no variables in the graph to restore\n",
      "INFO:tensorflow:Saver not created because there are no variables in the graph to restore\n",
      "INFO:tensorflow:Saver not created because there are no variables in the graph to restore\n",
      "INFO:tensorflow:Saver not created because there are no variables in the graph to restore\n"
     ]
    }
   ],
   "source": [
    "tf.reset_default_graph()\n",
    "modname = './modules/specdensemodule/'\n",
    "xfinsspec = []\n",
    "for i in range(4):\n",
    "    ii = 2*i\n",
    "    yy = ii* ones((512)).astype('float32')\n",
    "    recons = dorecon(yy, modname, useprior=True)\n",
    "    xfin = np.squeeze(recons[0])\n",
    "    xfinsspec.append(xfin)\n",
    "\n"
   ]
  },
  {
   "cell_type": "code",
   "execution_count": 100,
   "metadata": {},
   "outputs": [
    {
     "name": "stdout",
     "output_type": "stream",
     "text": [
      "0 5577\n",
      "2 901\n",
      "4 259\n",
      "6 123\n"
     ]
    },
    {
     "data": {
      "image/png": "[encoded data removed]",
      "text/plain": [
       "<Figure size 1008x576 with 12 Axes>"
      ]
     },
     "metadata": {
      "needs_background": "light"
     },
     "output_type": "display_data"
    }
   ],
   "source": [
    "nbins = 20\n",
    "fig, ax = plt.subplots(3,4, figsize=(14, 8), sharex=False, sharey=False)\n",
    "for i in range(4):\n",
    "    ii = 2*i\n",
    "    m = (sy == ii)\n",
    "    print(ii, m.sum())\n",
    "    ax[0, i].hist2d(sx[:,0][m], sx[:,1][m],\n",
    "                    nbins,range=[[-4,4],[-4,4]],normed=True)\n",
    "    ax[1, i].hist2d(xfins[i].T[0].flatten(), xfinsspec[i].T[1].flatten(),\n",
    "                    nbins, range=[[-4,4],[-4,4]],normed=True)\n",
    "    ax[2, i].hist2d(xfinsspec[i].T[0].flatten(), xfinsspec[i].T[1].flatten(),\n",
    "                    nbins, range=[[-4,4],[-4,4]],normed=True)\n",
    "\n",
    "    ax[0, i].set_title('i = %d'%ii)\n",
    "    ax[0, 0].set_ylabel('Truth')\n",
    "    ax[1, 0].set_ylabel('Recon')\n",
    "    ax[2, 0].set_ylabel('Recon Specnorm')\n",
    "    \n",
    "for axis in ax.flatten(): axis.grid(which='both')\n",
    "    # plt.colorbar()\n"
   ]
  },
  {
   "cell_type": "code",
   "execution_count": 105,
   "metadata": {},
   "outputs": [
    {
     "name": "stdout",
     "output_type": "stream",
     "text": [
      "INFO:tensorflow:Saver not created because there are no variables in the graph to restore\n",
      "INFO:tensorflow:Saver not created because there are no variables in the graph to restore\n",
      "INFO:tensorflow:Saver not created because there are no variables in the graph to restore\n",
      "INFO:tensorflow:Saver not created because there are no variables in the graph to restore\n",
      "INFO:tensorflow:Saver not created because there are no variables in the graph to restore\n",
      "INFO:tensorflow:Saver not created because there are no variables in the graph to restore\n",
      "INFO:tensorflow:Saver not created because there are no variables in the graph to restore\n",
      "INFO:tensorflow:Saver not created because there are no variables in the graph to restore\n",
      "INFO:tensorflow:Saver not created because there are no variables in the graph to restore\n"
     ]
    },
    {
     "data": {
      "image/png": "[encoded data removed]",
      "text/plain": [
       "<Figure size 864x288 with 2 Axes>"
      ]
     },
     "metadata": {
      "needs_background": "light"
     },
     "output_type": "display_data"
    }
   ],
   "source": [
    "tf.reset_default_graph()\n",
    "\n",
    "fwmodule = hub.Module('./modules/fwdmodel/')\n",
    "\n",
    "fig, axar = plt.subplots(1, 2, figsize = (12, 4), sharey=True)\n",
    "with tf.Session() as sess:\n",
    "    sess.run(tf.global_variables_initializer())\n",
    "    for i in range(4):\n",
    "        samples = fwmodule({'input':xfins[i]}, as_dict=True)['sample']\n",
    "        samples = sess.run(samples)\n",
    "        ax = axar[0]\n",
    "        ax.hist(samples, alpha=0.7, range=(0, 10), bins=10, color='C%d'%i, \n",
    "                 histtype='step', lw=2)\n",
    "        ax.axvline(2*i, color='C%d'%i, ls=\"--\")\n",
    "        ax.set_title('Recon')\n",
    "        \n",
    "        samples = fwmodule({'input':xfinsspec[i]}, as_dict=True)['sample']\n",
    "        samples = sess.run(samples)\n",
    "        ax = axar[1]\n",
    "        ax.hist(samples, alpha=0.7, range=(0, 10), bins=10, color='C%d'%i, \n",
    "                 histtype='step', lw=2, ls=\"-\")\n",
    "        ax.set_title('Spec Recon')\n",
    "        \n",
    "        ax.axvline(2*i, color='C%d'%i, ls=\"--\")\n",
    "plt.suptitle('True Forward Model')\n",
    "for axis in axar: axis.grid(lw=0.5)"
   ]
  },
  {
   "cell_type": "code",
   "execution_count": null,
   "metadata": {},
   "outputs": [],
   "source": []
  }
 ],
 "metadata": {
  "kernelspec": {
   "display_name": "Python 3",
   "language": "python",
   "name": "python3"
  },
  "language_info": {
   "codemirror_mode": {
    "name": "ipython",
    "version": 3
   },
   "file_extension": ".py",
   "mimetype": "text/x-python",
   "name": "python",
   "nbconvert_exporter": "python",
   "pygments_lexer": "ipython3",
   "version": "3.6.7"
  }
 },
 "nbformat": 4,
 "nbformat_minor": 2
}
