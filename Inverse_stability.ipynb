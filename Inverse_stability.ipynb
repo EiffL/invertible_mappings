{
 "cells": [
  {
   "cell_type": "markdown",
   "metadata": {},
   "source": [
    "# Testing regularization of likelihood functions"
   ]
  },
  {
   "cell_type": "code",
   "execution_count": 3,
   "metadata": {},
   "outputs": [
    {
     "name": "stdout",
     "output_type": "stream",
     "text": [
      "Populating the interactive namespace from numpy and matplotlib\n"
     ]
    }
   ],
   "source": [
    "%pylab inline\n",
    "import os\n",
    "os.environ[\"CUDA_VISIBLE_DEVICES\"]=\"0\"\n"
   ]
  },
  {
   "cell_type": "code",
   "execution_count": 4,
   "metadata": {},
   "outputs": [],
   "source": [
    "import tensorflow as tf\n",
    "import tensorflow_probability as tfp\n",
    "tfd = tfp.distributions"
   ]
  },
  {
   "cell_type": "markdown",
   "metadata": {},
   "source": [
    "## Creating the forward model"
   ]
  },
  {
   "cell_type": "code",
   "execution_count": 240,
   "metadata": {},
   "outputs": [],
   "source": [
    "ndim = 2\n",
    "means = np.array([0., 1.]).astype('float32')\n",
    "stddevs = np.array([1., 2.]).astype('float32')\n",
    "\n",
    "\n",
    "tf.reset_default_graph()\n",
    "batch_size=10000\n",
    "# This is the linear operator\n",
    "A = tf.constant(randn(2,2), dtype=tf.float32) / 2.\n",
    "\n",
    "# Defining probabilistic forward model\n",
    "prior = tfd.Normal(loc=means, scale=stddevs)\n",
    "\n",
    "# Defining the forward model\n",
    "x = prior.sample(batch_size)\n",
    "l = tf.reduce_sum(tf.matmul(x, A), axis=1)\n",
    "p = tfd.Poisson(log_rate=l)\n",
    "y = tf.reshape(p.sample(), (-1,))\n"
   ]
  },
  {
   "cell_type": "code",
   "execution_count": 241,
   "metadata": {},
   "outputs": [],
   "source": [
    "sess = tf.Session()\n",
    "sess.run(tf.global_variables_initializer())\n",
    "sx, sy, sl, AA = sess.run([x, y, l, A])"
   ]
  },
  {
   "cell_type": "code",
   "execution_count": 243,
   "metadata": {},
   "outputs": [
    {
     "name": "stderr",
     "output_type": "stream",
     "text": [
      "/home/chmodi/.local/lib/python3.6/site-packages/matplotlib/axes/_axes.py:6510: MatplotlibDeprecationWarning: \n",
      "The 'normed' kwarg was deprecated in Matplotlib 2.1 and will be removed in 3.1. Use 'density' instead.\n",
      "  alternative=\"'density'\", removal=\"3.1\")\n"
     ]
    },
    {
     "data": {
      "image/png": "[encoded data removed]",
      "text/plain": [
       "<Figure size 432x288 with 1 Axes>"
      ]
     },
     "metadata": {
      "needs_background": "light"
     },
     "output_type": "display_data"
    }
   ],
   "source": [
    "plt.hist(sy, bins=100, normed=True)\n",
    "plt.show()"
   ]
  },
  {
   "cell_type": "code",
   "execution_count": 244,
   "metadata": {},
   "outputs": [
    {
     "data": {
      "text/plain": [
       "(6.1387625, 444.0)"
      ]
     },
     "execution_count": 244,
     "metadata": {},
     "output_type": "execute_result"
    }
   ],
   "source": [
    "sl.max(), sy.max()"
   ]
  },
  {
   "cell_type": "code",
   "execution_count": 245,
   "metadata": {},
   "outputs": [
    {
     "data": {
      "image/png": "[encoded data removed]",
      "text/plain": [
       "<Figure size 432x288 with 2 Axes>"
      ]
     },
     "metadata": {
      "needs_background": "light"
     },
     "output_type": "display_data"
    }
   ],
   "source": [
    "subplot(121)\n",
    "# hist2d(sx[:,0], sy);\n",
    "hist2d(sx[:,0], clip(sy.flatten(),0,10));\n",
    "subplot(122)\n",
    "# hist2d(sx[:,1], sy);\n",
    "hist2d(sx[:,1], clip(sy.flatten(),0,10));"
   ]
  },
  {
   "cell_type": "code",
   "execution_count": 246,
   "metadata": {},
   "outputs": [
    {
     "data": {
      "image/png": "[encoded data removed]",
      "text/plain": [
       "<Figure size 360x360 with 4 Axes>"
      ]
     },
     "metadata": {
      "needs_background": "light"
     },
     "output_type": "display_data"
    }
   ],
   "source": [
    "# Have a look at the posterior on x for a given outcome y\n",
    "figure(figsize=(5,5))\n",
    "for i in range(4):\n",
    "    subplot(2,2,i+1)\n",
    "    m = (sy == i)\n",
    "    hist2d(sx[:,0][m], sx[:,1][m],32,range=[[-4,4],[-4,4]],normed=True);gca().set_aspect('equal');"
   ]
  },
  {
   "cell_type": "code",
   "execution_count": 247,
   "metadata": {},
   "outputs": [],
   "source": [
    "# Now, let's try to train a neural network to model the likelihood function"
   ]
  },
  {
   "cell_type": "markdown",
   "metadata": {},
   "source": [
    "# Module"
   ]
  },
  {
   "cell_type": "markdown",
   "metadata": {},
   "source": [
    "Train a neural network in a module "
   ]
  },
  {
   "cell_type": "code",
   "execution_count": 248,
   "metadata": {},
   "outputs": [],
   "source": [
    "import tensorflow as tf\n",
    "import tensorflow.contrib.slim as slim\n",
    "from tensorflow.contrib.slim import add_arg_scope\n",
    "import tensorflow_hub as hub\n"
   ]
  },
  {
   "cell_type": "code",
   "execution_count": 249,
   "metadata": {},
   "outputs": [
    {
     "name": "stdout",
     "output_type": "stream",
     "text": [
      "INFO:tensorflow:Saver not created because there are no variables in the graph to restore\n",
      "INFO:tensorflow:Saver not created because there are no variables in the graph to restore\n",
      "INFO:tensorflow:Saver not created because there are no variables in the graph to restore\n"
     ]
    }
   ],
   "source": [
    "tf.reset_default_graph()\n",
    "\n",
    "\n",
    "def module_fn():\n",
    "    '''Define network here'''\n",
    "    x = tf.placeholder(tf.float32, shape=[None, ndim], name='input')\n",
    "    y = tf.placeholder(tf.float32, shape=[None], name='output')\n",
    "\n",
    "    net = tf.layers.dense(x,32)\n",
    "    net = tf.layers.dense(net,16)\n",
    "    net = tf.layers.dense(net,1)\n",
    "#     net = tf.nn.softplus(net, name='lograte')\n",
    "    out_prob = tfd.Poisson(log_rate=net, name='out_prob')\n",
    "    loglik = out_prob.log_prob(tf.expand_dims(y, axis=-1))\n",
    "    sample = out_prob.sample(name='prediction')\n",
    "    #\n",
    "    # \n",
    "    inputs = dict(input=x, label=y)\n",
    "    outputs = dict(default=net, loglik=loglik, prediction=sample)\n",
    "    hub.add_signature(inputs={'features':x, 'labels':y}, \n",
    "                          outputs={'sample':sample, 'loglikelihood':loglik, 'lograte':net})\n",
    "#     hub.add_signature(inputs=inputs, outputs=outputs)\n",
    "\n",
    "    \n",
    "#####                                                                                                                                                                                                                                                                                     \n",
    "\n",
    "spec = hub.create_module_spec(module_fn)\n",
    "module = hub.Module(spec, trainable=True)\n",
    "\n",
    "xx = tf.placeholder(tf.float32, shape=[None, ndim], name='input')\n",
    "lograte = module({'features':xx, 'labels':sy}, as_dict=True)['lograte']\n",
    "loglik = module({'features':xx, 'labels':sy}, as_dict=True)['loglikelihood']\n",
    "sample = module({'features':xx, 'labels':sy}, as_dict=True)['sample']\n",
    "loss = -tf.reduce_mean(loglik)\n",
    "\n",
    "\n",
    "optimizer = tf.train.AdamOptimizer(learning_rate=0.001)\n",
    "train_op = optimizer.minimize(loss)\n",
    "\n",
    "sess = tf.Session()\n",
    "sess.run(tf.global_variables_initializer())\n",
    "losses =[]\n",
    "\n",
    "lrate0 = sess.run(lograte, feed_dict={xx:sx[:10]})\n",
    "for i in range(2000):\n",
    "    l,_= sess.run([loss, train_op], feed_dict={xx:sx})\n",
    "    losses.append(l)\n",
    "lrate1 = sess.run(lograte, feed_dict={xx:sx[:10]})\n",
    "pred = sess.run(sample, feed_dict={xx:sx})\n",
    "\n",
    "\n",
    "# module.export('./densemodule', sess)\n"
   ]
  },
  {
   "cell_type": "code",
   "execution_count": 250,
   "metadata": {},
   "outputs": [
    {
     "data": {
      "image/png": "[encoded data removed]",
      "text/plain": [
       "<Figure size 432x288 with 1 Axes>"
      ]
     },
     "metadata": {
      "needs_background": "light"
     },
     "output_type": "display_data"
    },
    {
     "data": {
      "image/png": "[encoded data removed]",
      "text/plain": [
       "<Figure size 432x288 with 2 Axes>"
      ]
     },
     "metadata": {
      "needs_background": "light"
     },
     "output_type": "display_data"
    }
   ],
   "source": [
    "plot(losses)\n",
    "plt.yscale('log')\n",
    "plt.show()\n",
    "hist2d(pred[:,0],sy,20,range=[[0,20],[0,20]],cmap='gist_stern');\n",
    "plt.colorbar()\n",
    "plt.show()"
   ]
  },
  {
   "cell_type": "code",
   "execution_count": 251,
   "metadata": {},
   "outputs": [
    {
     "name": "stdout",
     "output_type": "stream",
     "text": [
      "densemodule\n",
      "Inverse_stability.ipynb\n",
      "MAF.ipynb\n",
      "README.md\n"
     ]
    }
   ],
   "source": [
    "# %%bash\n",
    "# ls\n",
    "# rm -r densemodule\n"
   ]
  },
  {
   "cell_type": "code",
   "execution_count": 253,
   "metadata": {},
   "outputs": [
    {
     "name": "stdout",
     "output_type": "stream",
     "text": [
      "INFO:tensorflow:Exported TF-Hub module to: ./densemodule\n"
     ]
    }
   ],
   "source": [
    "# module.export('./densemodule', sess)\n"
   ]
  },
  {
   "cell_type": "markdown",
   "metadata": {},
   "source": [
    "Ok, fair enough"
   ]
  },
  {
   "cell_type": "code",
   "execution_count": 200,
   "metadata": {},
   "outputs": [],
   "source": [
    "# Now, let's see what happens if we try to maximize p(y | x) with respect to x "
   ]
  },
  {
   "cell_type": "markdown",
   "metadata": {},
   "source": [
    "\n",
    "Ok, so there is a little bit of code restructuring to do, but the idea here is to see if when we do gradient descent over x, we end up far away from a credible input x value, by that I mean, is $\\hat{x}$ within the posterior on x for y=4"
   ]
  },
  {
   "cell_type": "markdown",
   "metadata": {},
   "source": [
    "# Reconstruct here"
   ]
  },
  {
   "cell_type": "code",
   "execution_count": 274,
   "metadata": {},
   "outputs": [],
   "source": [
    "\n",
    "def dorecon(yy):\n",
    "    tf.reset_default_graph()\n",
    "    module = hub.Module('./densemodule/')\n",
    "\n",
    "    xrecon = tf.get_variable('xrecon', shape=(yy.shape[0], 2), \n",
    "                             initializer=tf.random_normal_initializer(mean=(0, 0)), trainable=True)\n",
    "\n",
    "    loglik = -module({'features':xrecon, 'labels':yy}, as_dict=True)['loglikelihood']\n",
    "    print(loglik.shape)\n",
    "    prior = tf.square(xrecon)\n",
    "    prior = tf.multiply(prior, stddevs**-2)\n",
    "    prior = tf.reduce_sum(prior, axis=-1, keepdims=True)\n",
    "    print(prior.shape)\n",
    "    loss = tf.add(loglik, prior)\n",
    "#     loss = loglik\n",
    "    print(loss.shape)\n",
    "    \n",
    "    optimizer = tf.train.GradientDescentOptimizer(learning_rate=0.001)\n",
    "    opt_op = optimizer.minimize(loss, var_list=[xrecon])\n",
    "\n",
    "    niter = 5000\n",
    "\n",
    "    with tf.Session() as sess:\n",
    "        sess.run(tf.global_variables_initializer())\n",
    "        xinit = sess.run(xrecon)\n",
    "        losses = []\n",
    "        for it in range(niter+1):\n",
    "            _, l = sess.run([opt_op, loss])\n",
    "            losses.append(l)\n",
    "        xfin = sess.run(xrecon)\n",
    "        \n",
    "    return xfin, losses"
   ]
  },
  {
   "cell_type": "code",
   "execution_count": 275,
   "metadata": {},
   "outputs": [
    {
     "name": "stdout",
     "output_type": "stream",
     "text": [
      "INFO:tensorflow:Saver not created because there are no variables in the graph to restore\n",
      "(512, 1)\n",
      "(512, 1)\n",
      "(512, 1)\n",
      "0 3609\n",
      "INFO:tensorflow:Saver not created because there are no variables in the graph to restore\n",
      "(512, 1)\n",
      "(512, 1)\n",
      "(512, 1)\n",
      "2 1256\n",
      "INFO:tensorflow:Saver not created because there are no variables in the graph to restore\n",
      "(512, 1)\n",
      "(512, 1)\n",
      "(512, 1)\n",
      "4 505\n"
     ]
    },
    {
     "data": {
      "image/png": "[encoded data removed]",
      "text/plain": [
       "<Figure size 1008x288 with 6 Axes>"
      ]
     },
     "metadata": {
      "needs_background": "light"
     },
     "output_type": "display_data"
    }
   ],
   "source": [
    "tf.reset_default_graph()\n",
    "\n",
    "fig, ax = plt.subplots(2,3, figsize=(14, 4), sharex=True, sharey=True)\n",
    "xfins = []\n",
    "for i in range(3):\n",
    "    ii = 2*i\n",
    "    yy = ii* ones((512)).astype('float32')\n",
    "    recons = dorecon(yy)\n",
    "    xfin = np.squeeze(recons[0])\n",
    "    xfins.append(xfin)\n",
    "    m = (sy == ii)\n",
    "    print(ii, m.sum())\n",
    "    ax[0, i].hist2d(sx[:,0][m], sx[:,1][m],32,range=[[-4,4],[-4,4]],normed=True)#;gca().set_aspect('equal')\n",
    "    ax[1, i].hist2d(xfin.T[0].flatten(), xfin.T[1].flatten(),32,\n",
    "           range=[[-4,4],[-4,4]],normed=True)#;gca().set_aspect('equal')\n",
    "    ax[0, i].set_title('i = %d'%ii)\n",
    "    ax[0, 0].set_ylabel('Truth')\n",
    "    ax[1, 0].set_ylabel('Recon')\n",
    "    \n",
    "for axis in ax.flatten(): axis.grid(which='both')\n",
    "    # plt.colorbar()\n",
    "\n",
    "\n",
    "# recons = []\n",
    "# for i in range(10):\n",
    "#     recons.append(dorecon(np.array(ii).reshape(-1)))"
   ]
  },
  {
   "cell_type": "code",
   "execution_count": 276,
   "metadata": {},
   "outputs": [
    {
     "data": {
      "image/png": "[encoded data removed]",
      "text/plain": [
       "<Figure size 432x288 with 1 Axes>"
      ]
     },
     "metadata": {
      "needs_background": "light"
     },
     "output_type": "display_data"
    }
   ],
   "source": [
    "for i in range(3):\n",
    "    rates = np.array([np.matmul(i, AA) for i in xfins[i]]).sum(axis=1)\n",
    "    plt.hist(np.random.poisson(np.exp(rates)), alpha=0.7, range=(0, 10), bins=10, color='C%d'%i)\n",
    "    plt.axvline(2*i, color='C%d'%i)\n",
    "    plt.title('True Forward Model')"
   ]
  },
  {
   "cell_type": "code",
   "execution_count": 277,
   "metadata": {},
   "outputs": [
    {
     "data": {
      "text/plain": [
       "[<matplotlib.lines.Line2D at 0x7f43f47b9208>]"
      ]
     },
     "execution_count": 277,
     "metadata": {},
     "output_type": "execute_result"
    },
    {
     "data": {
      "image/png": "[encoded data removed]",
      "text/plain": [
       "<Figure size 432x288 with 1 Axes>"
      ]
     },
     "metadata": {
      "needs_background": "light"
     },
     "output_type": "display_data"
    }
   ],
   "source": [
    "plt.plot(np.squeeze(np.array(recons[1])[:, 0]))\n",
    "# plt.plot(np.array(recons[0][1]).flatten())"
   ]
  },
  {
   "cell_type": "code",
   "execution_count": 126,
   "metadata": {},
   "outputs": [
    {
     "data": {
      "text/plain": [
       "array([[-0.25911194,  0.07700069],\n",
       "       [-0.34185737,  0.10125051],\n",
       "       [-1.2307714 ,  0.37744033],\n",
       "       ...,\n",
       "       [ 0.9635273 , -0.30178088],\n",
       "       [-0.22825548,  0.0673166 ],\n",
       "       [-1.2334999 ,  0.37837496]], dtype=float32)"
      ]
     },
     "execution_count": 126,
     "metadata": {},
     "output_type": "execute_result"
    }
   ],
   "source": [
    "# xfin = np.array([i[0] for i in recons])\n",
    "xfin = np.squeeze(recons[0])\n",
    "xfin"
   ]
  },
  {
   "cell_type": "code",
   "execution_count": 127,
   "metadata": {},
   "outputs": [
    {
     "name": "stdout",
     "output_type": "stream",
     "text": [
      "1 42\n"
     ]
    },
    {
     "data": {
      "text/plain": [
       "<matplotlib.colorbar.Colorbar at 0x7f3f600de0f0>"
      ]
     },
     "execution_count": 127,
     "metadata": {},
     "output_type": "execute_result"
    },
    {
     "data": {
      "image/png": "[encoded data removed]",
      "text/plain": [
       "<Figure size 360x360 with 2 Axes>"
      ]
     },
     "metadata": {
      "needs_background": "light"
     },
     "output_type": "display_data"
    }
   ],
   "source": [
    "# Have a look at the posterior on x for a given outcome y\n",
    "figure(figsize=(5,5))\n",
    "m = (sy == ii)\n",
    "print(ii, m.sum())\n",
    "hist2d(sx[:,0][m], sx[:,1][m],32,range=[[-4,4],[-4,4]],normed=True);gca().set_aspect('equal');\n",
    "plt.colorbar()\n"
   ]
  },
  {
   "cell_type": "code",
   "execution_count": 130,
   "metadata": {},
   "outputs": [
    {
     "data": {
      "text/plain": [
       "<matplotlib.colorbar.Colorbar at 0x7f3f5870c128>"
      ]
     },
     "execution_count": 130,
     "metadata": {},
     "output_type": "execute_result"
    },
    {
     "data": {
      "image/png": "[encoded data removed]",
      "text/plain": [
       "<Figure size 432x288 with 2 Axes>"
      ]
     },
     "metadata": {
      "needs_background": "light"
     },
     "output_type": "display_data"
    }
   ],
   "source": [
    "hist2d(xfin.T[0].flatten(), xfin.T[1].flatten(),32,\n",
    "           range=[[-4,4],[-4,4]],normed=True);gca().set_aspect('equal');\n",
    "plt.colorbar()\n"
   ]
  },
  {
   "cell_type": "code",
   "execution_count": 131,
   "metadata": {},
   "outputs": [
    {
     "data": {
      "text/plain": [
       "(array([  7.,  11.,  46., 116., 115., 117.,  64.,  21.,  12.,   3.]),\n",
       " array([-2.7806737 , -2.177853  , -1.5750324 , -0.9722117 , -0.36939102,\n",
       "         0.23342967,  0.83625036,  1.439071  ,  2.0418918 ,  2.6447124 ,\n",
       "         3.247533  ], dtype=float32),\n",
       " <a list of 10 Patch objects>)"
      ]
     },
     "execution_count": 131,
     "metadata": {},
     "output_type": "execute_result"
    },
    {
     "data": {
      "image/png": "[encoded data removed]",
      "text/plain": [
       "<Figure size 432x288 with 1 Axes>"
      ]
     },
     "metadata": {
      "needs_background": "light"
     },
     "output_type": "display_data"
    }
   ],
   "source": [
    "plt.hist(xfin[:, 0])"
   ]
  },
  {
   "cell_type": "code",
   "execution_count": 12,
   "metadata": {},
   "outputs": [],
   "source": [
    "# # net = tf.layers.dense(x,32)\n",
    "# # net = tf.layers.dense(net,1)\n",
    "# net = tf.layers.dense(x,32)\n",
    "# net = tf.layers.dense(net,16)\n",
    "# net = tf.layers.dense(net,1)\n",
    "# out_prob = tfd.Poisson(log_rate=net)\n",
    "# pred = out_prob.sample()\n",
    "\n",
    "# loss = -tf.reduce_mean(out_prob.log_prob(tf.expand_dims(y, axis=-1)))\n",
    "\n",
    "# optimizer = tf.train.AdamOptimizer(learning_rate=0.001)\n",
    "# train_op = optimizer.minimize(loss)\n",
    "\n",
    "# sess.run(tf.global_variables_initializer())\n",
    "\n",
    "# losses =[]\n",
    "# for i in range(1000):\n",
    "#     l,_= sess.run([loss, train_op])\n",
    "#     losses.append(l)\n",
    "    \n",
    "# plot(losses)\n",
    "# plt.yscale('log')\n",
    "\n",
    "\n",
    "# # Try to predict the outcome\n",
    "# tp, ty = sess.run([pred,y])\n",
    "\n",
    "# hist2d(tp[:,0],ty,20,range=[[0,20],[0,20]],cmap='gist_stern');\n",
    "# plt.colorbar()\n"
   ]
  }
 ],
 "metadata": {
  "kernelspec": {
   "display_name": "Python 3",
   "language": "python",
   "name": "python3"
  },
  "language_info": {
   "codemirror_mode": {
    "name": "ipython",
    "version": 3
   },
   "file_extension": ".py",
   "mimetype": "text/x-python",
   "name": "python",
   "nbconvert_exporter": "python",
   "pygments_lexer": "ipython3",
   "version": "3.6.7"
  }
 },
 "nbformat": 4,
 "nbformat_minor": 2
}
